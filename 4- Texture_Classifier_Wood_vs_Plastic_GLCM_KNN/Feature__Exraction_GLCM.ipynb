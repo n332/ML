{
  "cells": [
    {
      "cell_type": "code",
      "execution_count": 2,
      "metadata": {
        "id": "vPFTwX_AYeR_"
      },
      "outputs": [],
      "source": [
        "from PIL import Image\n",
        "import matplotlib.pyplot as plt\n",
        "import numpy as np\n",
        "import csv\n",
        "import os"
      ]
    },
    {
      "cell_type": "markdown",
      "metadata": {
        "id": "E8IlNs1fYeSD"
      },
      "source": [
        "# 1. Data"
      ]
    },
    {
      "cell_type": "markdown",
      "metadata": {
        "id": "43QSMI-PYeSD"
      },
      "source": [
        "## 1.1 Load"
      ]
    },
    {
      "cell_type": "code",
      "execution_count": 3,
      "metadata": {
        "id": "8JG7mjRrhtGu"
      },
      "outputs": [],
      "source": [
        "path = \"E://Nour_//FCAI//4.2//Pattern//Assignments//Assignment_2-Nour_Mostafa-20190591//dataset/plastic\"\n",
        "dir_list = os.listdir(path)"
      ]
    },
    {
      "cell_type": "code",
      "execution_count": 4,
      "metadata": {},
      "outputs": [
        {
          "data": {
            "text/plain": [
              "100"
            ]
          },
          "execution_count": 4,
          "metadata": {},
          "output_type": "execute_result"
        }
      ],
      "source": [
        "len(dir_list)"
      ]
    },
    {
      "cell_type": "code",
      "execution_count": 5,
      "metadata": {},
      "outputs": [
        {
          "name": "stdout",
          "output_type": "stream",
          "text": [
            "plastic_moderate_001_new.jpg\n",
            "plastic_moderate_002_new.jpg\n",
            "plastic_moderate_003_new.jpg\n",
            "plastic_moderate_004_new.jpg\n",
            "plastic_moderate_005_new.jpg\n",
            "plastic_moderate_006_new.jpg\n",
            "plastic_moderate_007_new.jpg\n",
            "plastic_moderate_008_new.jpg\n",
            "plastic_moderate_009_new.jpg\n",
            "plastic_moderate_010_new.jpg\n",
            "plastic_moderate_011_new.jpg\n",
            "plastic_moderate_012_new.jpg\n",
            "plastic_moderate_013_new.jpg\n",
            "plastic_moderate_014_new.jpg\n",
            "plastic_moderate_015_new.jpg\n",
            "plastic_moderate_016_new.jpg\n",
            "plastic_moderate_017_new.jpg\n",
            "plastic_moderate_018_new.jpg\n",
            "plastic_moderate_019_new.jpg\n",
            "plastic_moderate_020_new.jpg\n",
            "plastic_moderate_021_new.jpg\n",
            "plastic_moderate_022_new.jpg\n",
            "plastic_moderate_023_new.jpg\n",
            "plastic_moderate_024_new.jpg\n",
            "plastic_moderate_025_new.jpg\n",
            "plastic_moderate_026_new.jpg\n",
            "plastic_moderate_027_new.jpg\n",
            "plastic_moderate_028_new.jpg\n",
            "plastic_moderate_029_new.jpg\n",
            "plastic_moderate_030_new.jpg\n",
            "plastic_moderate_031_new.jpg\n",
            "plastic_moderate_032_new.jpg\n",
            "plastic_moderate_033_new.jpg\n",
            "plastic_moderate_034_new.jpg\n",
            "plastic_moderate_035_new.jpg\n",
            "plastic_moderate_036_new.jpg\n",
            "plastic_moderate_037_new.jpg\n",
            "plastic_moderate_038_new.jpg\n",
            "plastic_moderate_039_new.jpg\n",
            "plastic_moderate_040_new.jpg\n",
            "plastic_moderate_041_new.jpg\n",
            "plastic_moderate_042_new.jpg\n",
            "plastic_moderate_043_new.jpg\n",
            "plastic_moderate_044_new.jpg\n",
            "plastic_moderate_045_new.jpg\n",
            "plastic_moderate_046_new.jpg\n",
            "plastic_moderate_047_new.jpg\n",
            "plastic_moderate_048_new.jpg\n",
            "plastic_moderate_049_new.jpg\n",
            "plastic_moderate_050_new.jpg\n",
            "plastic_object_001_new.jpg\n",
            "plastic_object_002_new.jpg\n",
            "plastic_object_003_new.jpg\n",
            "plastic_object_004_new.jpg\n",
            "plastic_object_005_new.jpg\n",
            "plastic_object_006_new.jpg\n",
            "plastic_object_007_new.jpg\n",
            "plastic_object_008_new.jpg\n",
            "plastic_object_009_new.jpg\n",
            "plastic_object_010_new.jpg\n",
            "plastic_object_011_new.jpg\n",
            "plastic_object_012_new.jpg\n",
            "plastic_object_013_new.jpg\n",
            "plastic_object_014_new.jpg\n",
            "plastic_object_015_new.jpg\n",
            "plastic_object_016_new.jpg\n",
            "plastic_object_017_new.jpg\n",
            "plastic_object_018_new.jpg\n",
            "plastic_object_019_new.jpg\n",
            "plastic_object_020_new.jpg\n",
            "plastic_object_021_new.jpg\n",
            "plastic_object_022_new.jpg\n",
            "plastic_object_023_new.jpg\n",
            "plastic_object_024_new.jpg\n",
            "plastic_object_025_new.jpg\n",
            "plastic_object_026_new.jpg\n",
            "plastic_object_027_new.jpg\n",
            "plastic_object_028_new.jpg\n",
            "plastic_object_029_new.jpg\n",
            "plastic_object_030_new.jpg\n",
            "plastic_object_031_new.jpg\n",
            "plastic_object_032_new.jpg\n",
            "plastic_object_033_new.jpg\n",
            "plastic_object_034_new.jpg\n",
            "plastic_object_035_new.jpg\n",
            "plastic_object_036_new.jpg\n",
            "plastic_object_037_new.jpg\n",
            "plastic_object_038_new.jpg\n",
            "plastic_object_039_new.jpg\n",
            "plastic_object_040_new.jpg\n",
            "plastic_object_041_new.jpg\n",
            "plastic_object_042_new.jpg\n",
            "plastic_object_043_new.jpg\n",
            "plastic_object_044_new.jpg\n",
            "plastic_object_045_new.jpg\n",
            "plastic_object_046_new.jpg\n",
            "plastic_object_047_new.jpg\n",
            "plastic_object_048_new.jpg\n",
            "plastic_object_049_new.jpg\n",
            "plastic_object_050_new.jpg\n"
          ]
        }
      ],
      "source": [
        "for image_path in dir_list:\n",
        "    print(image_path)"
      ]
    },
    {
      "cell_type": "code",
      "execution_count": 6,
      "metadata": {},
      "outputs": [],
      "source": [
        "image_as_numpyArray_list = []"
      ]
    },
    {
      "cell_type": "code",
      "execution_count": 7,
      "metadata": {},
      "outputs": [],
      "source": [
        "for image_path in dir_list:\n",
        "    img = Image.open(\"dataset/plastic/\"+image_path).convert('L')\n",
        "    img = img.resize((50,50))\n",
        "    Image_arr = np.asarray(img)\n",
        "    image_as_numpyArray_list.append(Image_arr)"
      ]
    },
    {
      "cell_type": "code",
      "execution_count": 8,
      "metadata": {},
      "outputs": [
        {
          "data": {
            "text/plain": [
              "(50, 50)"
            ]
          },
          "execution_count": 8,
          "metadata": {},
          "output_type": "execute_result"
        }
      ],
      "source": [
        "image_as_numpyArray_list[0].shape"
      ]
    },
    {
      "cell_type": "markdown",
      "metadata": {
        "id": "CvBV6GpEYeSD"
      },
      "source": [
        "# 2. Helper Function"
      ]
    },
    {
      "cell_type": "markdown",
      "metadata": {
        "id": "XqddnvKbYeSD"
      },
      "source": [
        "## 2.1. GLCM "
      ]
    },
    {
      "cell_type": "code",
      "execution_count": 9,
      "metadata": {
        "id": "9Rm_252KYeSD"
      },
      "outputs": [],
      "source": [
        "def split_to_windows (img_as_arr, angle):\n",
        "\n",
        "    windows = []\n",
        "\n",
        "    for row in range (img_as_arr.shape[0]):\n",
        "        for col in range (img_as_arr.shape[1]):\n",
        "\n",
        "            if angle ==0 :\n",
        "\n",
        "                if col == img_as_arr.shape[1]-1:\n",
        "                    break\n",
        "\n",
        "                win = np.array([img_as_arr[row,col],img_as_arr[row,col+1]])\n",
        "\n",
        "            elif angle == -90:\n",
        "\n",
        "                if row == img_as_arr.shape[0]-1:\n",
        "                    break\n",
        "                win = np.array([img_as_arr[row,col],img_as_arr[row+1,col]])\n",
        "            \n",
        "            windows.append(win)\n",
        "\n",
        "\n",
        "    return windows"
      ]
    },
    {
      "cell_type": "code",
      "execution_count": 10,
      "metadata": {
        "id": "N9tI_I1WYeSE"
      },
      "outputs": [],
      "source": [
        "def create_GLCM (windows, values):\n",
        "\n",
        "    glc  = np.empty([len(values),len(values)])\n",
        "\n",
        "    for start_value in range (len(values)):\n",
        "    \n",
        "        for target_value in range (len(values)):\n",
        "            count = 0\n",
        "            for win in windows:\n",
        "                if win[0] == start_value and win[1] == target_value:\n",
        "                    count = count + 1\n",
        "\n",
        "            glc [start_value,target_value] = count\n",
        "\n",
        "    \n",
        "    return glc / np.sum(glc)"
      ]
    },
    {
      "cell_type": "markdown",
      "metadata": {
        "id": "tOb8MicfYeSE"
      },
      "source": [
        "## 2.2. Features"
      ]
    },
    {
      "cell_type": "markdown",
      "metadata": {
        "id": "WierY3RtYeSE"
      },
      "source": [
        "### 2.2.1. Mean and Sigma"
      ]
    },
    {
      "cell_type": "markdown",
      "metadata": {
        "id": "x2NjsEuflpMi"
      },
      "source": [
        "![Mean.jpg](data:image/jpeg;base64,/9j/4AAQSkZJRgABAQEAYABgAAD/2wBDAAIBAQIBAQICAgICAgICAwUDAwMDAwYEBAMFBwYHBwcGBwcICQsJCAgKCAcHCg0KCgsMDAwMBwkODw0MDgsMDAz/2wBDAQICAgMDAwYDAwYMCAcIDAwMDAwMDAwMDAwMDAwMDAwMDAwMDAwMDAwMDAwMDAwMDAwMDAwMDAwMDAwMDAwMDAz/wAARCAEZAzcDASIAAhEBAxEB/8QAHwAAAQUBAQEBAQEAAAAAAAAAAAECAwQFBgcICQoL/8QAtRAAAgEDAwIEAwUFBAQAAAF9AQIDAAQRBRIhMUEGE1FhByJxFDKBkaEII0KxwRVS0fAkM2JyggkKFhcYGRolJicoKSo0NTY3ODk6Q0RFRkdISUpTVFVWV1hZWmNkZWZnaGlqc3R1dnd4eXqDhIWGh4iJipKTlJWWl5iZmqKjpKWmp6ipqrKztLW2t7i5usLDxMXGx8jJytLT1NXW19jZ2uHi4+Tl5ufo6erx8vP09fb3+Pn6/8QAHwEAAwEBAQEBAQEBAQAAAAAAAAECAwQFBgcICQoL/8QAtREAAgECBAQDBAcFBAQAAQJ3AAECAxEEBSExBhJBUQdhcRMiMoEIFEKRobHBCSMzUvAVYnLRChYkNOEl8RcYGRomJygpKjU2Nzg5OkNERUZHSElKU1RVVldYWVpjZGVmZ2hpanN0dXZ3eHl6goOEhYaHiImKkpOUlZaXmJmaoqOkpaanqKmqsrO0tba3uLm6wsPExcbHyMnK0tPU1dbX2Nna4uPk5ebn6Onq8vP09fb3+Pn6/9oADAMBAAIRAxEAPwD9/KKKKACiiigAooooAKKKKACiiigAooooAKKKKACiiigAooooAKKKKACiiigAooooAKKKKACiiigAooooAKKKKACiiigAooooAKKKKACiiigAooooAKKKKACiiigAooooAKKKKACiiigAooooAKKKKACiiigAooooAKKKKACiiigAooooAKKKKACiiigAooooAKKKKACiiigAooooAKKKKACiiigAooooAKKKKACiiigAooooAKKKKACiiigAooooAKKKKACiiigAooooAKKKKACiiigAooooAKKKKACiiigAooooAKKKKACiiigAooooAKKKKACiiigAooooAKKKKACiiigAooooAKKKKACiiigAooooAKKKKACiiigAooooAKKKKACiiigAooooAKKKKACiiigAooooAKKKKACiiigAooooAKKKKACiiigAooooAKKKKACiiigAooooAKKKKACiiigAooooAKKKKACiiigAooooAKKKKACiiigAooooAKKKKACiiigAooooAKKKKACiiigAooooAKKKKACiiigAooooAKKKKACiiigAooooAKKKKACiiigAooooAKKKKACiiigAooooAKKKKACiiigAooooA+Tf+CrP7TPxu/Za+G+l618FbHwL4o1y6Nyf+Ec13RLu5lvI7Wzub65kS5hvYRHiG3KKphfMskYJAbA9a/Zx/aTtf2yv2PfC/wATPAeoadYL400OPUbGe+tHvLewmZfnSWFZImfy5AysokQnafmFZc8C/EX9vzZIskln8OPBRJUg+S9zq90Rz2LpDpre4W59Gr4N+FPji/8A+Ca3xR/aZ/ZbhupNOsfFcD+Mvg7K6/JGNauFspLGIdD9n1CdCFHAViTgVz01OUZ0FrKopOC1vzRck4XWvvx/eRtsoytq0lNSSVSNRu0YSjGdldWmouM7K93GTVNpLVy1Xutv7m/4J/ePvi38YPgjpvjP4oa18OtQj8Tw/bdIt/C3hu90pYrVnYwyyPc39yZDLF5cm0KmzfjLYzXvFc7pGjw/CL4U2un6Xpt5qVv4Z0pLe0sLMR/aLlYIgqRR+YyJvYKFG5lXJGWA5r53/wCHlni7/o0P9qr/AMF/hr/5dV11ZQ9o4Q2W2nTpfpfTUmjGfs1Oas3ur3s+q+XokfVVee/tGfGbWvgj4HuNW0bwHrvjdre1uLmb7DfWNpb2CxRl91w9xOj7GwR+4jmYY+50ry/4e/t/+KfHnjjStFm/Zc/aS8Ow6ncpbyapq1n4ejsdPVjgyzNHq7uI1HJ2IzYHCk4FewftE/8AJv8A45/7F+//APSeSvPzSpUo4KrXpuzjGTW26V9jrwcY1MRGlLq1f0bscb/wT1/aX1L9sj9if4a/FLV9OsdJ1Lx1osWrT2VmWaC1MhOEUsSxAGBk9Tzx0r2SvlH/AIIYf8ohP2e/+xNtP5Gvq6vazKjCli6tKmrRjKSXom0jystrTq4OlVqO7lGLfq0mwoooriO4KKKKACiiigAooooAKKKKACiiigAooooAKKKKACiiigAooooAKKKKACiiigAooooAKKKKACiiigAooooAKKKKACiiigAooooAKKKKACiiigAooooAKKKKACiiigAooooAKKKKACiiigAooooAKKKKACiiigAooooAKKKKACiiigAooooAKKKKACiiigAooooAKKKKACiiigAooooAKKKKACiiigAooooAKKKKACiiigAooooAKKKKACodSS4l064Wzlhgu2jYQyTRGWON8fKzIGUsoOCQGUkcZHWpqKUldWYJ2dzwn9l39nL4nfB/4v8AxD8TeOPiV4R8b2/j6+jv/smm+C59Fl0sxW8NvDDHK+pXIaFY4mYqybjJK7bgDtpv7Tv7APhP9qH9pD4KfE7VpDa+IPgrrNxqlkUgD/2hFLbun2d23DaqzeRMDhuYcY+YkdN+2j+1dpP7EH7NXif4pa94d8XeKNF8JQLdX9j4as4rvUfJLqryrHLLEhSMNvclxhFY84xXx7+y1/wcfeBv22tC1TUvhP8As+ftOeOrPRZ1tr9tL0TQ5GtHZdyh0OrBlDDOCRg4OCcHCpSUppU/ipcr21jbRO/4cz32bYqkEoNT+GpzR12d1ql8ui23R+ilFfH/APw9f8Rf9Ge/tgf+E3of/wAtqUf8FXvERz/xh7+1/wAAn/kXND7c/wDQW/SqvbVjPr+vPf2lPh342+Kvw5vtB8GeKfC/hWTVrW5sr651nw3PrQaOWJox5SRXtpsZS2csXBAxgda+L/jj/wAHGHhr9mrTZr7x5+yx+2Z4X023QyS3994Bslso1GckzjUDEMY/vdOehFe/f8ExP+Cqvwx/4KyfBvV/Gnw0h8SadbaDqR0u/wBO1+2gt9QtpNiurskM0ybHVvlYPztYYBFZyoQxVKdP4o296z6PTW3e9vmV7Z0Jwk9G3p6pN/krmn/wTp/ZJ8bfsQfs7+Ffhhr3j3wv448N+CdHi0nSprHwlPot8wRjh53fULlJMqQMJHHyM57V9A0UV0Vq06s3UqO7erfdvUxo0YUoKnTVktEuyWgUUUVmaBRRRQAUUUUAFFFFABRRRQAUUUUAFFFFABRRRQAUUUUAFFFFABRRRQAUUUUAFFFFABRRRQAUUUUAFFFFABRRRQAUUUUAFFFFABRRRQAUUUUAFFFFABRRRQAUUUUAFFFFABRRRQAUUUUAFFFFABRRRQAUUUUAFFFFABRRRQAUUUUAFFFFABRRRQAUUUUAFFFFABRRRQAUUUUAFFFFABRRRQAUUUUAFFFFABRRQTgUAFFeB/sD/t2Wv7emi/EbWNJ8NXWh6D4J8a6h4PsL6a8Wca8LPYsl2ihV8tTIWULluFzu5wLXwS/bo0X48ftk/F34P6PouqfaPg7Bpn9q607obOe6vY3l+zIAd26OMIST1LEYGAWIe/y8v2oqa/wtJp+Wko76ptJ66EymkpSe0ZOL/wASk4tefvJrTs3tqe5UUV4z+0f/AMFD/gb+yB4pstD+KHxU8F+BdY1K2+2W1nq+pJbzTQ7ivmBTzt3AjPqDUykk0m99vPr+SLUW9V0PZqK+Vf8Ah+N+yD/0cV8Kv/B3HR/w/F/ZB/6OK+FX/g8jqhH1VRWf4S8WaZ488L6drei31rqmj6vbR3lleW0gkhuoZFDJIjDgqykEEdQa0KqUXF8styYyUkpR1TK+raVa67pdzY3tvDd2d5E0E8EyB45o2BDKyngggkEHqDX84/7W3wm8Yf8ABrd/wVg0v4wfD2xvNQ/Z5+J1w8FzpcTHyo4GYPcaa3YSw/623ZuqjH8L5/pAryD9u79inwb/AMFBv2X/ABP8LfHFoJtJ8QW5ENyqgz6ZdLzDdRE9JI3wR6jIPBIrkqOrQqxxmGV5x0a6Ti94v1W22ul0mzZRpVqcsNX+CXXrGS2kvR9vzSt2fwL+N3hn9pH4QeHfHfg3VLfWvDHimxj1DT7yE/LLG4zyOzA5VlPIYEHkV1lfz1/8ERf21PGX/BEf9vvxF+xf+0BdGz8H6xqpHhvVbglbWyupj+4niZjgWl2MZ/uS9cHfX9CgOa9CoqU4RxOGd6c1eL6rvF+ceuz2dlc4qE6kZSw+I0qQ37NPaS8pfNXuk3a7bNCtxE0cirJHICrKwyGB6givnL4df8E/vDP7MX7YNx8TfhRoemeFrH4gW76f480axVbWxvWQPLa6lHCuEW5SXdE+0DzEuWY/MnzfR9Fc8YpTVRbq6v5NWa80+3ez3SZ0Tjzw9nLbR/NO6fqn/ls2gooqvquq2+h6Xc315NHa2dnE0880jbUiRQSzMT0AAJJpSkopyk7JFJNuyPI/2wv24PCX7E9h4Km8Uab4s1abx94ktvC+k22gaS2oTNdT5IZwCAkaqrMxznCnarHivZK+Y7n/AIKR2ugftG/CHwTrXhWTT9N+O63z+Dr5L9pNQkS2t1uPNvLJoE+zRyISVIlkYZQOsbFlT0L9pH9pTUPg7cNpfhvw5aeKfEUWh33iOe2vNUbTLS1sbQIHaSdYJ2Du8ipGgjO4hySoQmpnUjSpOpV2vLo1ZRXvJre8XGcpN2st0lG7iPvVOWL6R07uTaTT7SuopfzJ6tuy9aor5j/Z2/4KE6t+2f8As1aH8UvhL8OLjVPDuq6YNQf/AISXVjokjyBSZLa2C29wZ5EZShdhHCWwFkbD7JNX/wCCkPhHxx/wS98UftH+D5riTQ9P8J6jrUEN0gjuLa5to5Q1tKoJCyJOhQgEjI4JGDRjJvDQqzmnekryXXrb1vyuz2+9BhJRxMqapP8AiOyfTp16PXZ66PTR26/4dfG7Wv2g/wBojxBaeF7qGy+Hfw2vH0jVb5Ylkl8R6wE/e2kTMpCW9qHXzHT53nPlhkEMgk7v4+/GzRf2bvgp4p8feJBfnQfB+mT6rfiytWurgwxIXbZGvLNgcD8yBzXnP/BM/wCE7fBf9gr4V6LcSfaNUk8P22p6rcsPnvL+7X7VdTOe7PNNIxPcmuZ/bM/4KRWP7I3ww8ZePD4bj1/wP8Nr230/xNfnVDZ3AuZZIEMFjD5LrdyRrOpcNJEob5AzOHCaYyjOk3hFJc693mtdc11Fytp7vO0ld6Jxi3fVzga6rxjiLNxlZpdeV6pecuXfTV3aVrJey/s4/HTTf2m/gT4V+IGjabr2k6V4u06LU7Sz1qz+x39vHIMqs0WW2tj0JBGCCQQa7Wq2jarDruj2t9b7/s95Ck8e9SrbWUMMg8g4PSrNaVre0lyqyu9N7eV/InDybpRblzaLVaJ6bpdL7hXkP7Uv7anhP9kfXvh1pfiOw8UalqHxQ8RxeGNGg0TS3vmW5kUt5k2CBHEigszckAEhSAceifEf4h6T8J/A2qeI9duvsek6RAbi4kCNI2B0VEUFndiQqooLMzAAEkCvDrn9vK88E/tU/DP4Y+N/BP8AwjM/xitNQufDE0WsC+u4XsoY5pYL+BYVS3cpIcGGa4TchBYZBOUfeqxgu607pXk0n0bin5rdJmlTSnKW2j17O1lK3VRbTfS27S1O5/aq8aeMPhF4Lj8deF431qw8JCS81/w4luJJtZ08AGZrZgpkF3CqmSJAdkuHjYAukkXeeAfHekfFHwPo/iTw/f2+qaHr1nFf2F5A26O5glQOjqfQqQa1XRZUZWUMrDBB7ivj7/gkP4jbwtpXxu+D7SFofgt8SdS0jS4z0t9Luwmo2cSjssaXTRqOgEYHaii3KcqXaPOvRSjGSffWcHHt726skq0uXkn3fI15uMpJ/JRknve8bWs7/YVFFFMsKKKKACiiigAooooAKKKKACiiigAooooAKKKKACiiigAooooAKKKKACiiigAooooAKKKKACiiigAooooAKKKKACiiigAooooAKKKKACiiigAooooAKKKKACiiigAryX9qX9oG/wDhdL4Y8I+E7ex1D4kfES8fT/D9rdhmtrRI08y61C4C4Y29tF85UFTI7RRBlMoYetV8ffsya/8A8L6/4Kz/ALQniSeQXFp8ItJ0b4faQhwRbSXER1K/dfQu0lqjeogX0qV71WNPpZyl/hjb8HJxg2mmlK6d0iak3Cm5R3ukvVv7vdjzTs7p8tnoz3L9oP8AaA0n9iP9lXXviF46vda17SPAWki81i8trWE314qbVeURL5cW4k7iq7R1AHQV8t/Cr/g5P/ZP+PWtaXoPgLxZ4v8AGnjbXHENh4X0rwZqr6ldSn+AM8C2647u0wRRyWABI93/AOCnskMP7C/jxrqPzLdYbUyoIjLvQXkG4bACWyM8AEnpg1zd18ZfhX+xpp1542uPgjqPwt8I30yDU/GVv4b0uztokldESe8jtpjfRRFmXc81uojAJl8sAmpp1ObESjV+HTbR3bel9Yrm2Wm60T6ROTS5afxJX11TXorSdra6631a6+9+OdO8R+LPhlcR6DqS+E/E89sk1rPNBHexWlwMP5cqHiSIkbH2FWKltjo21xzH7LH7RMf7RXw/vLm6sBofivwzqM2g+J9FMhkOkalBgSRqxVS8LqySxSFR5kUsb4G7A9G0/ULfVrCC6tZobm1uo1lhmicPHKjDKsrDgggggjgg18hWHiD/AIUd/wAFuLzQYX8nSvjp8NxrEkAwEfVNGuVgaXHd3tLqNSeuIF9BWkW/bqi18fNbycYym/lyxkrfzctra3KkuWiqqd+Vxv5qUow+/mlF32UVJWu1b7DooooNQooooAKKKKACiiigAooooAKKKKACiiigAooooAKKKKACiiigAryf9u/4/wAH7K/7GPxQ+Ilw/ljwh4avtRi5+9KkLeUo9zJtH416xX5+/wDBxLqk/wAQf2YPh38DtPaU6j+0D8Q9H8JyRxMVc2Kzi5umyOdojhAJHZq48fRnWo/VqekqrjTT7OpJQT+XNd+htRrQoy+sVdY005td1BOTXTdKy1O+/wCCI3wrtv2Xf+CQvwpOqTJFNeeHm8W6zdSN96a9L3ssjN7CQAn/AGa8f/4IE+O7HVfgl4r+MniBrhdf/as+Kus6lpIEDO0ltAs4tkOB8saW9nMdzcdB1YCvqn4f/wDBPnw54F+Fel/D2bxd488QfDHRbQafa+ENWu7SbT/sq4EdtLKlul3cQoo2+XPcSK6krIJFwBZ/Zh/4J/8Agv8AZNh0Oz8NX3iS60PwfbXdn4X0fULmKSy8NQ3UvmzpbhIkkcscKHuHldEBVWUO4b1K1aM8bWxKVozTjFfyxclJp9LvkppWbSSlrqkeXSo1Y4WlRnrKMuaT7y5JR5l3V5yk72bdtN2e5V4z+0f+1nrnwA8U2Wm6Z8DfjN8T4by2+0NqHg+30iW1tm3FfKk+2ahbSB+M8IVwR82cgezUVyyTbVn/AME700fKv/Dyzxd/0aH+1V/4L/DX/wAuqP8Ah5Z4u/6ND/aq/wDBf4a/+XVfVVFUIz/CWuTeJvC+nalcaZqGizX9tHcSaffiP7VZMyhjFL5bvHvXODsdlyDhiOa0KKKqTTd0TFNJJu4UUV4v+27+2Pp/7IHw2s7iHTZvFHjrxZdjRvB3ha0cC78R6k4JSJf7saAF5ZT8scasx7A5VKnKr2beyS1bb0SS6tvRLuWl1bslq29EktW2+iS1b6I+C/8Ag5K/YE8G/wDBRfxD8Jfh94YXH7Rl9qAOjz2sYZbHQg4+23OoMMFLWPhozyxlwqA73x+lX7O3wqu/gZ8B/B/g2+8Rar4uvPC+kW2mTazqRX7XqTRRqhmk2gDc2M+vqSck+V/sGfsa6h+z5p2ueNviBqkHi343fEh0vfF+vqhEUW3Pk6bZKcmKxtgdkaD7x3O2WY19DVdGm8PRlQT+KXPK2yla1o+S1ba+KTlLZpLBv29VYiX2Y8sb6Plvdt9buysn8MUlo73KKKxfE/xC0nwfrug6XqF15WoeJ7x7HTYFjaRriVIZJ3+6DtVY4nYs2FGAM5YAht0ubVZ/izwrpvjrwvqOi6xZwajpOr20lne2sy7o7mGRSjxsO6spII9DWhRQOMmndH5m/Avx5pfx/wD+Ctvx2/aB14yx/DT9mHRh8NfCxhjMscmoPiXUpIY1HzSBikAVck5UdcCvYP8Agu18UNP/AGcf+CbHxg8YabaQ2/jbxloMHgbT7xExdTNezNBDEG64Q3Uzgdjk1658LP8Agnp4E+D3ifWrjRbjXI/DuueJ5vGk/heWS3bSF1mV0ka8A8kTswlQSrG8zRJJh1QFUK/Kv/BafR7H9rH9tn9kX9m+8hXUNH8TeLLnxt4msifkm07S7diEkH913kYe5WuSVH2uHw+BnvLljJd+Z89d3871ZaLSNuvupU6jw9WvjFtG8l/24kqStdX0jTVtLzvbo37tr+raL/wSt/4I+q07Jb2vwp+H0dpEgIDXN4lqI0RemXluGAA6ln9a+N/hr+x54u/Zp/4NQfHXhHxFDeQ+MNV8D6x4n1G0cHzrZrl3uzCwz94RYDD1Lcdq/QaT9hfw/wCJNV8Pt4x8TeMviFo3hG5ivdC0LxBcWsmm6dcQlvJmZYbeJ7qSIEBGu3nKlFf/AFmZD6p8QvA+n/E7wFrfhvVoVuNL8QWE+nXkR6SQzRtG4/FWNb5hKrVhi60NalZaLbRc0kn5ylLW2iUY6u7tnl1NUXhaM/gotN21u7KN9lpGKkldXbm7pWV8P9nDV4df/Z58B31s263vPDunzxH1VraNh+hr4P8A+ClvgzT/ANpb9vP9nn9lTw7p8Nr4Xk1y4+L/AMQobUBY5LW1naWJZgOv2m9d2JPUgH6fR3/BK/U9S8Hfs1w/CPxM83/CZfA+f/hD9Q87797aQjOn3y/3o7izMLhhwHEi/eRgOw+Iv7DnhXx7+0TJ8UrXVfEvhbxlfaAPC2qXmizwRHWNME3nLbymWGRo8MXxLA0UoDnDjClerFVIzxsMRS1hz86vpfRypN9bKfs5Nb2TVns+XCUZRy54Wfxcqg7eTUKlvPk51F7Xad7anf8Agv4veH/G/wAPpPFFnfR2/h+GS5jN7dj7NCFt5pIZJMvgeXujYhzwVww4Iro7a5jvbaOaGSOaGZQ6OjbldSMggjggjvXjX7X/AOxt8N/2k/2LPEnwh8XC48N/De50lLSc6RdLp7aVa2+10aNyCiLH5anDKyYXDAjIqL/gnF8Kv+FI/sUeAfC8MmqyaZpNnKmkDUyTfQ6a08r2Mc+QD5qWrQq2QDuU8DoMY2bn5ONvNPm1f8rutFrfXXRnU3KPIrbqV+yty2t33d+qstNT1rxb4K0nx5p9vaazp9tqVra3lvfxRTpuRZ4JVmhkx03JIiOuejKD1Ar4Ps7r/hpf/g4zusMLjR/2b/hgIhj5lh1XWJgTnsG+yoPevrLR/wBtf4V6/wDG/wAb/Dez8aaTN40+G+mR6x4m04eYv9jWsg3LJLKVEQ+XBKhyygqWADDPyn/wQl8Map8S4/j5+0RrFlNbf8L+8f3GpeH5JoyklxoNootrCQA87HQMy+oIPepw3vYiNRfDCE5p9G5r2K8tYym0+vs3b4XZYu3sXRfxSlCNuqUWqr+Vopf9xE+uv39XxP8A8EzreS//AG+f24NXjaRtPuPiBpNhET9zzrfRLUS456guoP4fh9Z/GP4saN8CvhX4g8Y+Ibj7Lovhuxlv7twpZikaltqKOWdjhVUZLMQACSK8c/4JkfAfWvgv+zfPqni21ay8cfE7Xb/x14jtnO57G61CUyrase5gg8mH6xHtRR/jzm9lTcfnKdOS9dKc79tL7oeI1jTit+e/yjCaf3OcNPPyZ9EUUUVRoFFFFABRRRQAUUUUAFFFFABRRRQAUUUUAFFFFABRRRQAUUUUAFFFFABRRRQAUUUUAFFFFABRRRQAUUUUAFFFFABRRRQAUUUUAFFFFABRRRQAUUUUAFFFFABRRRQAV8T/APBL+CTRP22/23NLuvN+2D4l2Oojf3guNGtDERyTjCEfh+A+2K+Ude8Mt+y//wAFS4fGzrJH4R/aB0K28M39wP8AU2fiDTjLJZeZ/d+02sk0SseC9vGvV1Bmm+XEp/zwlD0blCa+901Fd5SSMsT/AAeb+SSl8rSg/lFTc2+0WdV/wUP/AG3L79iLwX4GvtM+GPij4rX/AI48W2fheHS9D/11t5yyStcMNjkiNIXbbgAkcsgBYW/+Cos2lx/8E2fju+tfZ003/hAtZ877RjYM2UuM/wDAsfjivXfiP8ONJ+K/hK40XWoJprO4KuGguJLe4t5EYNHLDNGVkilRgGV0YMpAIIrxPx3/AME6NJ+Nlt/ZPxM+JHxQ+J3gtbiO4HhPW7rTrfSZTGQUSf7DZ2893GGUMUuppVYj5g1cuKw7xGHqYZu3Pdc3aLjGNrLdp80l3vZyStbroV3QxMMRFXUbe73kpN3v0TXKnva10m2cR/wQOu/FN7/wR/8AgO/jCO8TWB4cVU+1MWma1EsgtWOeeYBFjPbFY37RtvJrf/Bdf9mmK1aTdovw/wDF9/eBfurDI1hCm7noZCOo6j8vtKwsLfSNPhtbWGG1tbWNYoYYkCRxIowqqo4AAAAA4AFfLP7KXh5v2g/26fil8eCrt4c02xi+G3g+Vh8t7BZzyS6leR5H+rkvG8lWGQ4s9wJBBr0sRXVfMliLaXqSa8pU5wXq+acb91d7Jnl0sO6GAWHvd/u4rtdTjJrySjGTXoluz6sooorE7gooooAKKKKACiiigAooooAKKKKACiiigAooooAKKKKACiiigArh/iN+zb4H+LnxO8E+MvEnh611bxL8Obi4u/Dl7NJJnS5p4/KldVDBGYoMZdWx1GDzXcUUdVLqtV5MHqnF7PR+gUUUUAFFFFABRRRQAUUUUAcN+0r+0L4d/ZT+BniT4geKpLtdD8M2jXU6Wlu1xc3B4CRRRqCXkdiqqB1LDoOa/FD9mb/g4W+Gtr+0V4k+Nvxm+D37R3iD4mX/AJuleG7PSvCdrcaT4I0Xd8ttZtLeRu082A9xOY1Z2wgwigH95klWRmCsrFDtYA/dOM4P4EfnTqzpxlGs61+ll5X3a82tL9I3S0lK7qcs6aptdbvztsn5J6+qT3SPyr/4i4Pgh/0Q/wDaq/8ACNsP/lhSP/wdw/BEI234HftUs2OAfB1gAT9f7Qr9U2lVHVWZVZ+FBPLfSnVoI/Fv42f8HgMFhoFwvw5/Zg+LWraoy4hfxIg0+3jPqywLOzAegZc+or1D/g3t+Jfxs/4KI/Ej4iftOfHmOaxuISfCHgfQhYvZ2Wh2pKT3r28T5fMjLbo0jks3lEZwAB+qlI7rEjMzBVUZJJwAKKHJSlKrLWVmk2/hvo2ltdxvG+9pPUzrxlUUYJ2V02l9q2qV9/is+ztawtFcf4C/aG8A/FXxBdaT4X8ceD/EmqWKs9zZ6XrNteXFuquYyXjjdmUB1ZSSBhlI6iuwo6XNOtgrx/xb/wAE8/gD4/8AEGpatr3wN+D+tarrF5/aF/e3/gzTrm4vrn/nvLI8JZ5P9tiW969goosr83X/AIZ/ml9yC+lv6/rUZb28dpbxwwxpFFEoRERdqoo4AA7AelPoooBJJWRx+sfBLRdU+MOl+PITeab4k0+0fTZ7izdUXVrM7mW2ulKkSRpI3mRnh42LbWVZJVfsKKKOlun+bv8Am2/Vtg9Xd7/5aL8NPRJbJFPXdAsPFGlTWOp2NnqNjcYEtvdQrNFJggjcrAg4IB5HUCrlFFAHlfjL9iX4V/EHxxq/iLWPBel3mpeIliXWlLSpaa95QAi+3WysILsoAApnRyo4GBXqFlZQ6bZw29vDHb29ugjiijQKkagYCqBwABwAKkooilGPLHYXKubm69zj/id8ENF+MOt+HbjxB9rv7DwzejU4NJZ1+wXN4hVoLiePbmVoGBeNWbYrkOVLpGydhRRRsuVbb/N9fXRL0SWyQ93d+ny1/wA397CiiigAooooAKKKKACiiigAooooAKKKKACiiigAooooAKKKKACiiigAooooAKKKKACiiigAooooAKKKKACiiigAooooAKKKKACiiigAooooAKKKKACiiigAooooAKKKKACud+Kvwr0H42eAdQ8M+JbBNS0fUlUSxF2jeN1YPHLG6kPHLG6q6SIQ6OispBANdFRSauOMmndFHwxo0nh3w5Y6fNqF9q0tlAkD3t6UNzdlVA8yQxqib2xk7VUZJ4FXqKKqUm3dkpJKyMH4m+Ao/ih4F1Dw/calq+lWuqRiC4n0u4+zXRiJHmRpLgtHvXKF02uoYlGRgrC54N8G6T8O/CWm6DoOm2ej6Lo9tHZ2NjaRCKC0hjUKkaIvCqqgAAVpUUloml13+W33Xdu133Y97X6X/G1/vsvuQUUUUAFFFFABRRRQAUUUUAFFFFABRRRQAUUUUAFFFFABRRRQAUUUUAFFFFABRRRQAUUUUAFFFFABXLfFn4uab8INCtbq8gvNQvtUu007StLsRG15q926sywQiR0TcVR2LO6oiI7uyqrMOprwv/gpR8RtU+Cf7E/xF8deG9BTXPGHhHQ7u70DFuJZLG7khaAXCnBZFRZWZ2XB8sOOhNc+KrOlRlUSvZXt38k3om9k3ot2mjSjT55qHfTXZX2btq0t2lZtaJrcj/YB1z4U/Ef4eeKvHnws0G80FfG3irUbnxPHeszXcmtW8ptLrzT5ssZKtAEHku0W1RsJFe2eI/EVh4Q8P32rapeW2n6Zptu91d3VxII4baJFLO7seFVVBJJ6AV8rf8E/fEXhf9k39g1dJsfO1rwN8IfDcUt74o07fqA8TXwge71OW2SNCbgLI/8ArI2ffK8qYDRNn2n9nz47eA/28f2adD8b+G1XXvA/jazMkUOpWW0yIHZHimhkBwyujKynIyvcYNdlenySlRpO/s1FbOyVmoWW6i1F8q/lVr6HDhMRGpTjWkre0cpJbN63abtrJcy5nbWTbtqeX6R8XvhP+0N+254Gs9e8G+KNJ+J3hvw3e+JvBF3rY+zx3OmTvHbXNxDBFcNscgxDbdwxzKsnCg7wOo+K3/BTr9nX4F+PtQ8K+Mvjh8K/C/iXSXVL3S9T8S2lrd2jMocCSN3DKSrKcEdCK8V/ZR/4v9/wWY/aM+IDN52m/CvQtH+GWlsfupO6nUb7b77pYFP+7XtXxW8XftL6f4+1CHwP8PfgXq/heN1Fjd678QdV07UJ12jcZYIdFnjjO7cAFmfgA5BOBz05Xo0mvtJy+UpNwd9EnKm4yemsm2rLQ6I61at+jST9Ix5l1fuz54rXS1nc57/h8p+yb/0ch8Ff/Cvsf/jleG/8Fcv23/CvxT/YU8Fj4YeNtC8WeGfi98S9C8AX2q6BqEd5by2lxdr9tt/MiYj54UeNhkHbIR3r3L/hO/2w/wDolf7NX/h09b/+Z6vKP+CnvwD+Lf7Sv7Cnh/WPEHg/wwvxE+FvjrSPHUeh+EtWudchvrWwuleVIJJrW1ledrdpSIxFyyhVLFhV+4p05VfgVSk5XenIqkOe/dct+Zdr30CfPyTVO/M4TUbXvzckuSzWz5rWffzLf/Bczxcv7MP7GvhD4leG4otK1j4V+OPD0+lSWyeX5FtLexWdxbLt6RSW00kbJ0II44GPt21uFu7aOVfuyKHH0IzXwP8A8FRvEvhv/gph+z/4P+Dvwr1/R/GWreMvGOiXmrpplzHdHw7pdneJdXdxfKrZttogMQSQKzSsIwN2QPvqCFbeFI1GFjUKB6AU6CkqVTn3dWTV97ezoq/pzJrtdS63MPdeIj7LZU4p22+ObS8mk7tdnHpYdRRRQdIUUUUAFFFFABRRRQAUUUUAFFFFABRRRQAUUUUAFFFFABRRRQAUUUUAFFFFABRRRQAUUUUAFFFFABRRRQAUUUUAFFFFABRRRQAUUUUAFFFFABRRRQAUUUUAFFFFABRRRQAUUUUAFFFFABRRRQAUUUUAFFFFABRRRQAUUUUAFFFFABRRRQAUUUUAFFFFABRRRQAUUUUAFFFFABRRRQAUUUUAFFFFABRRRQAUUUUAFFFFABRRRQAUUUUAFFFFAFfWGvE0m6bT47eS+ETm2S4cxwtJg7Q7KGIXOMkAkDsa+e9Z+CHxs+Ft18OY/hr4o8F3miaUdUu/Gul63A9mfEt/eFphcR3EcNw8CLdSyyGJVBYFV8zA5+jKKmUb6/1s1+v32e6TSkrq39dP8tPVrZni37C/7IMf7Hfws1fT7rWW8TeLPGWv3vizxRrJg+zpqGp3km+UxR5YxwoAscaFmKpGuWJya9pooq3K9l0SSSWySVkkuiSSSXRCjG1+7bb82222/NttvzCiiikUFFFFABRRRQAUUUUAFFFFABRRRQAUUUUAFFFFABRRRQAUUUUAFFFFABRRRQAUUUUAFFFFABRRRQAUUUUAFFFFABRRRQAUUUUAFFFFABRRRQAUUUUAFFFFABRRRQAUUUUAFFFFABRRRQAUUUUAFFFFABRRRQAUUUUAFFFFABRRRQAUUUUAFFFFABRRRQAUUUUAFFFFABRRRQAUUUUAFFFFABRRRQAUUUUAFFFFABRRRQAUUUUAFFFFABRRRQAUUUUAFFFFABRRRQAUUUUAFFFFABRRRQAUUUUAFFFFABRRRQAUUUUAFFFFABRRRQAUUUUAFFFFABRRRQAUUUUAFFFFABRRRQAUUUUAFFFFABRRRQAUUUUAFFFFABRRRQAUUUUAFFFFABRRRQAUUUUAFFFFABRRRQAUUUUAFFFFABRRRQAUUUUAFFFFABRRRQAUUUUAFFFFABRRRQAUUUUAFFFFABRRRQAUUUUAFFFFABRRRQAUUUUAFFFFABRRRQAUUUUAFFFFABRRRQAUUUUAFFFFABXzz/wUE/4KM+H/APgnF4At/FnjDwP8QvEPhmaQQy6h4bh065+yvtkkYNDNeQztshiklZo43VURiTwRX0NXgPxv8Gaf+0L+1t4d8E6xa2upeG/DvhLVNX1e0lXcHl1D/iXWwPs1udUX19O9YV3VslRtzatJ7Pli5NN9E0mr73t6O4yhFOVW/Lom1uuZqKfXq1o9H3W69Y0z4o2fiz4SWnjHwza3fivT9U02PVNNg06SBZtTikjEkYiaaSOIMysMb5EXnkiuH/ZD/azm/a68GzeII/hl8RvAGkiWSG1m8VDS0OoNHK8TmJLO9uX2hkb5nCBhgqWBzXxX/wAE4/j9rH7EX7On7Qn7O3iJ5L3xb+zEt3N4SSZ8S65oF0jy6Syk/eIdhASMgHaK++fg94P0z9m79nLw3od5eWun6V4J0C3trq8uphHDClvAokmkkY4VflZmZjjqSa6ZSpXlWg/3bjGUb22lzO7ts4pJSTuk3bdM5KTqvlo1P4iclK3ePKu91Gd+aDt70dbnc0V8/wD/AA9i/ZZ/6OW/Z/8A/Dh6R/8AJFaXhL/gpn+zf4/8Uafoeg/tBfBHWta1a4S0sdPsPHWl3N1eTOQqRxRpOWd2JACqCSTxSjFt2W5vKSSu9jufjV+0d4D/AGdNHhvvHHizQvDMV0shtI767SO4vzGu50t4s+ZM4XnZGrN7VH+zR+0L4e/av+A3hb4j+E/tzeG/GFiuo6c15D5M7wsTtZkydpOM4znB5weKn/aJ/wCTf/HP/Yv3/wD6TyV4H/wQw/5RCfs9/wDYm2n8jUULzdbm+x7O3/b/ALW9/T2at6sitJxqUoraSnf1i6dv/S3f0Pq6iiiqNAooooAKKKKACiiigAooooAKKKKACiiigAooooAKKKKACiiigAooooAKKKKACiiigAooooAKKKKACiiigAooooAKKKKACiiigAooooAKKKKACiiigAooooAKKKKACiiigAooooAKKKKACiiigAooooAKKKKACiiigAooooAKKKKACiiigAooooAKKKKACiiigAooooAKKKKACiiigAooooAKKKKACiiigAooooAKKKwfH3xJ0n4aaV9q1SS8bcGMVtY2E+oXtztGW8q2t0kmlIHJCIxA5PFTKUYrmk7IEm3ZG9RXBfAP9p7wH+09oupX3gfxFba0ui3bafqlqYZbW+0m5UZMF1azKk9vKAc7JUVsdq72rcWt/X79V96JjJSV4u//AANH9zCiiikUFFFFAEOpXUljp1xNFbTXkkMbOlvCUEk5AyEUuyruPQbmAyeSBzXzr+yTrPxC8VftN/FrxF44+Dviz4f2uuyWNnoGo6nqmi3i3Gm2cGEjkWyvp5Ela5uL2QKU2BGGWDHB+kK534qfF7wn8CvBF14m8b+KPDvg3w3YlFudV1zUodPsbcuwRA80zKi7mYKMkZJAHJqU1GXPJ6WtZ7XbWve/Ra212CUedKK3vf8A4Hp+PmfJf7c//BNjV/jv/wAFBfgZ8XvCky2Vnpl0NH+IsKSpF/a2j28g1Gy3gkGTy7+2hTC5bE/90NX2pNCtxE0cirJHICrKwyGB6givAf8Ah7F+yz/0ct+z/wD+HD0j/wCSKP8Ah7F+yz/0ct+z/wD+HD0j/wCSKqHu0lQXwpyaXnJ3l8m9bd2wkr1HV6tJPz5dE/W1o37Riuh6t/wonwP/ANCb4V/8FNv/APEVY0r4P+EtC1GG8sfC/h2zu7dt0U8GmwxyRn1VgoIP0ryH/h7F+yz/ANHLfs//APhw9I/+SKP+HsX7LP8A0ct+z/8A+HD0j/5IoA7L9rbxD4i074M65pvhnwB4o8fajr2m3lhHBo11plubV3gcI0rX13bLtZiF+QuQTkgDmvIP+CO3hD4gfA79hj4Z/C34hfDHxR4F17wF4bt9PvLu+1HSLyxvJkZlKwNZXs8h4w2ZI0GD1zxX0H8Hfjt4H/aI8I/8JB8P/GXhXx1oPnNbf2l4e1a31Oz81cbo/Ngdk3DIyucjIrqqKcXSdT+/yXv/AHefltt/PJ9b6Gc1Go4ST+DmSt/eceZPf+RLy1Ciiig0CiiigAooooAKKKKACiiigAooooAKKKKACiiigAooooAKKKKACiiigAooooAKK8l8c/tzfC34Y+MNJ0bxF4mk0NteuksNO1O+0q9g0S9uXO1II9TaEWTSs2VEYm3EggDIIr1rNEWpR546ra/S63XyuLmXNy9dHbyez+fQKKKKBhRRRQAUUUUAFFFFABRRRQAUUUUAFFFFABRRRQAUUUUAFFFFABRRRQAUUUUAFFFFABRRRQAUUUUAFFFFABRRRQAUUUUAFFFFABRRRQAUUUUAFFFFABRRRQAUUUUAFFFFABRRRQAUV578U/2kdH+GvjfTPCdrp+seK/GmsWsl/a+H9FSFrw2kbKslzI08sUEMQZgoaWVNzfKu5uKm+FX7Qmk/E/xFr+gyWeo+G/FXhZIJtW0PVXtzeWUE+8wTk28ssTRSiKTaySNyjBtrKQJjOLV09Nfw0frZ6O2zTT2YnJJ8vXT8dr9r6Wvvdd0U/wBpD9rz4bfsiaX4fvPiR4s07wrb+KtXg0HSDcrI7X97McRwosas3PUsQFUcsQOa9Ir5x8U/tc/CL4k/Gv4Y+EfFfhf7a3jS+uL74da5rOm2V1pur3dpD5rT2LeY88TiJ3MczxRB1BKMyspb3T4jfEfQfhD4F1XxP4o1jT9A8PaHbPeahqN9MsNvaRKMs7u3AAo5lGm6lTRXeuySSSs77NS5r7acum7bV5VeSOui063beq7pqyVvtKSv0W1RXzh49/4Ke+BPhB8GZPib420Dx54L+Fxt/tNt4r1bSo0tLtGTfF/oySvfQmb7sYuLaLc+1eGkjD9b8Qv22/Cvgr4d6J4j0/TPEviyHX/D0viy2tNJtYkul0mKKOWS7kF1JCqKoliGxmEjM4Co2G2lScYKUp6cu99OXRv3v5bKLbvayTb0Vwi1JxUftar+8tFeP82sktL6tLfQ9iorwz4b/t++E/j/AOAdL8S/CnRfFXxW0nUrKG+abw/Fawx2SSxmREllvp7aLzsY3QI7SpvQuiqysa/wh/4KL+A/2ivA1hqvw6s/EfjjU7wzLPoOm28Meo6U0E7W863ZuJYre3KSpIoEkw8wxv5XmbTjSUZRk6ck+Zbq2vrbe3d7LqZxrQlFTi1Z7Pp9/d9Fu+h73RXln7N37Xvhb9pvWfGmi6TBq+jeKPhzqo0fxLoOrRRx32k3DRrLHuMUkkTpJGwdXikdSM85BA1fj7+0z4R/Zs0rSZvE19N9v8SX6aVoek2UDXWpa5ePysFtAmWkbALMeERQWdlUFhDkkoy/ms1bW/NbltbfmurW3urblxkpXt0vfy5b3v2tZ3vtbU76vHbX4EeObX9uy8+JH/CcWUvw+vPB8OgDwrJpQa4t72O5km+1R3W/KK6vtdAvzmOPOdi45/xB/wAFJPAfw1+KvgrwH8QNP8UfDnx18Rb+HT/DmhaxaQ3VxqrSKx3xyWMtzBsRkKyEygxkpuAEkbN5b/wVO/b98Ufs7+IdB8A+GfhB+0d42s/EkDT+IfEPw08CXGtzaRZ8qILeYmOBbqXDDf5jNAvz7CzJjOpU5HGpDV3cV2u4tNN6rSMrvdrSy5kkNpSUqUr7Rk11spJxavbeUdNk+9rnP/sl+CJfGX/BcX9oj4leD4TD8PofCmk+EtcvYk22us+I7eRpJdh6SPb25SKRh91m2HkED70r45/4JvftbzfHvxinhLwj+z/8bfgJ8M/A2gSB7b4ieCT4fbVL2a4i8n7K/myebsRLppSTuZpkYknJP2NW8abp0KVPok/X4pN6dE224q7tDlV3a5hTlzValR/FJq66K0IpJOyv7qV31ld2WyKKx/EvxE8P+DLiOHWNc0fSZpl3xpeXscDOvTIDEZHvWb/wvbwP/wBDl4V/8G1v/wDF1JudVRXK/wDC9vA//Q5eFf8AwbW//wAXXT21zHeW8c0MiSwyqHR0bcrqeQQR1B9aAH1w/wC0l+zt4T/az+Bnib4d+ONLh1jwv4rsnsr23ccgH7rof4ZEYBlYcqygjpXcUVnWowqwdOorp6MqnUlCSnB2a1R/ND+xlqMf/BvD/wAFXta+A/x80DQfE3wV8e3KPpev6xpENzHbxyNsttTjZ1bYox5Vwg6Fd2PkUn+hqz/ZZ+E2oWkVxb/Dn4dzQToJI5I/D9myyKRkMCI8EEc5FfN//Bcv/gktov8AwVe/ZEvNDgjtbP4keFVk1Hwhqkg2+XcbfmtZG/54zhQrf3SEbqtfGn/BsH/wVq1rXFvv2RfjdLd6X8Tvhy01l4ebUzsuLy3tyVk0+Qk8zW+Dt67ox1OzJ2wNWdem8JWd61NXT/5+U11/xQ2l5dlyp82LhHD1PrVP+FUdpL+Sb/8AbZfn396R+r4/ZP8AhYM/8W0+H/zAqf8AinrTkHgj/V9xXlfx3/4I6fst/tI6PcWniv4EfDSZ7iJoje6fokOmXyA5+7c2wjlUgkkYbgnNfSlFYzpQn8SudMZyj8LPgb/gnD/wTZP/AARw/aM17wf4J1fWte+BvxekN5ptpqB8+68J61BGzmJ5FAD29xbo4WRgCHtkRixdSfvmiituaTjGMm3ZWu9XZbJvrZWSb1sle71eMacYyk46czvbpd72XS71a7tvqFFFfO/xE/4KefDL4R/EXw/o/idtZ0PRPFWsXvh3SPFNzFANFv8AU7QOZ7RWEpuA4MUqB2hETPGyq5bAOfMuZR6v+vzaS7tpLVoqUlGLlLZf8P8Agk2+yTb0TPoiuL/aB+Oujfs4/CzUPFWtLc3ENs0VtaWNoqtd6reTOsVvaQKxAaaaV0jQEgZYZIAJHF3v7cHh7wv4+8JaJ4r8O+MPBFv4/vv7L8M6rrttbwWes3hjaVLYKk7z28rxo7Kl1FCTtK43fLXlvxf15vjx/wAFd/hr8PJGWbQfhH4RuviLf2xyVk1K5mOn6ezDoTHH9tcZ6MykcgELWU4U46cza9OWLnJa7SUIuya3cbqzJlWjCEqis+VJ+T5pKEHpvFzaTae17ao+mfhXc+J77wHp9x4xt9JsfEVyhmu7TTWeS3sSxLLAJGOZWjUhGkwodlLBEBCjmLz9rz4bWP7UFn8F5PFunD4oX2kPr0Ph9Vka4NkjbTMzBdi85wrMGYAkAgEjrviF8QtJ+F3hS41rWrn7LZQPHEMKXknlkdY4oY0HLySSMiIiglmZQBk15H8BPj38Nvjp+0x440+Hwf8A8Iz8ZfAen2Npr0erWFj/AG1Bp90rT2y/araSZXgY7zsEp2sDlQSCb5uarZbatpdrO1r9pOLd7vlv1aY5XjTvfW61fnJXva1rq6Wy5ml5P3aiiigsK87+G37V/wAO/jH8YvHHw+8L+K9N1jxl8OGgj8SabArl9JedS0SuxUIxIU5CsSpGDg1qfFD4z6f8MrzTdO+xanr3iLWxK2maHpSRvfXyxANK48x44o403KGlmkjjDSRru3Oitxf7Hnxh+Gfx9svGvibwFoFnoGuR+I7nRfGUD6bb2uppq1niKSO8eEss0irtCyCSRShXaxFKPvSa6crfnvFX/wAKvZ+birq4ql4xT2baWu2zdvVqLa8lJ2dmaHwI/aAvPGHj3xL8P/F1rY6T8QvCCxXVxDasRa6zp0zOLfUrVWZnWJ2R43jYlopYnQs67JJPVK+Q/wDgpd4gP7PXxn/Z7+Mtqwtv7J8aweCNekHH2jSNa/0Yo/OCEvFs5RnoUOMZOfoP9pz402n7OH7Ofjr4gX237J4L0G91qQH+IQQPJt/EqB+NY1MSoYWWJntByUrd4xUtPNwlFu1lzNpJJIunCU8T9XjvLlcfSTcbP0lGSX93lbbbZh6J8fr74lftH6p4N8J2tjcaH4G2p4u1mcl0ivJYt8Om2yqwzcKjxzSu2VjR4lCu0pMXb/FP4o+Hvgl8Oda8XeLNWs9B8NeHLOS/1LULptsNpBGu53Y9cADoMk9Bk147/wAEuPhpe/Db9hX4fya03n+KvFlgPFfiO6Od95qeok3lzIxPJ+eYqM9FRRwABTv2wf2z/hv8Efh94u/4TzQb7xN4C0GOKy8a3aWdpe6VosdyYkWG8imlVpdyTo7RRRzMsbAsoDpu3xdOrRvQuvaLS+8ebZ9vd5nZbaWv7zbeODrQrqNfXklqrb8u60195rVrX3m0tEkvVPgl8a/C/wC0d8JtA8deCtWh17wp4otFvtM1CKOSNbqFujbZFV16HhlBBHIFdVWb4O07SdI8J6ba6Da2NnokNtGthBZRLDbRQbRsWNFAVUC4wAAAK0q0q8qm1BNK7tfe3n59xUJSlTi5NN2V2tn6eXYKKKKzNQooooAKK8j+EH7afg744/tNfFD4U+H49Zm8QfCMWC6/dyWyrp6y3kbSxwRS7iXkVFBcFQBuXBPOLmpftg+CNM/a90z4GteXknxA1Tw5N4qW1itWeCCxjmWHdLL91GZ2IUHrsbpxkj73Jy/bV4+a5XK68uVOXorickua/wBlpPybaST+bS9WkRfHb4/3v7O/jfw7qGv2tj/wrXXriHRrvVkJjn8PahNL5dtJcbm2vazu8cO5QrRStGW3pIzQ7v7THw3134x/s8+NvCfhjxE3hHxD4k0S703TtaWEzHS55YmRJwgZSdpOeCDx1q58d/hJpfx7+C3irwTrUK3GleKtKudLuUP9yWNkyO4IzkEcggEV4F/wTb/ay1Dx/wD8Ey/D/jbxVDrWv+JPBNhfaJ4hh0rT5dQ1C/vtKmltJ/Kt4g0kssjQbgigsxcetYVOWVKrCrooq91e7jK6e3WLW66Tikrpt3GpOFenOn1dvSSs1vvzK+nTkbfxaef/APBWnwRLo/8AwRb8QfDXxlLY+OPH3iLw/Z+E9Fi0zS1tTrviF/LS1NpaqT5eJlEoCnEaRs3AU4+s/wBmzwjrngD9njwJoXia6+3eItF8P2Fjqlxu3edcx26JK2e+XDc9+tfmz4H/AOCuOran8Srr4h+Ov2L/ANuXWPHFqs9r4ctIPhK76V4WtmyAsDvcK7TSjBmuDGrEfIqqi4b9N/gzea9qHwg8K3HinaPE1xpFpLqwWDyALtoUMwEf8GJC3y9uldVP2ko1a81Z1JRbWyWkrJJaXV3ztaawirqPNLijTjGdKktqcZKO7bV4czb7e7HlT1fvN6u0eloooqDrCiiigAooooAKKKKACiiigAooooAKKKKACiiigAooooAKKKKACiiigAooooAKKKKACiiigAooooAKKKKACiiigAooooAK85/aT/aDi+A3hrS47PTz4g8XeLNQTRvDOhpOIX1W9dWfDOQfLhijSSaWTDbIonIVm2q3o1fIvwe15v2if+CuXxV1K4ZbjR/gH4c07wppMZyVg1LU1+3X8wHTeYEso89QNw6Mcz8VSNPpq35RW/3vlhfo5J62sTUlyQc1q9El3baXzsryaurqLV1ufVXhz+0LPwxZ/wBuXGnzapHbob6aziaC1aUKN7Ro7uypnOAzMQOpNeK6b+39ovjdL7UfA3gf4ifEfwfpUs0N74p8PWdm+lI0JIl8jz7mKe+CEMN1lDcAspVSzDbXz9/wcV/tMa18Fv2JtD8D+F9QuNJ8RfHbxbp/w/gvYHKS2lvduftTow5DGFWTI5HmZ7V6P8U/E/7Pc/7KE3wE1XXdc8G/DnUdFj8Fw6zZ6ZqGlaPFEyrbRx2+stb/AGDzC2EH75tz5UhiSKylUqTjUqUknJNxjH+afLGTT/upTglbVtvVKNpN8sakKU3ZNc0pfyxu4prpduMnrolHZ8ya+gtX8d3/AI/+Ckfib4Z3Wg65capYxanoj3jv9h1SJgsioZEO6MSp8okw3llgxRwpQw/s8/HnR/2j/hja+JNJjuLNvOmsNR0262i70a/gkMVzZzhSVEsUqsjYJU4DKSpBK/s1/AXw/wDst/AHwf8ADrwq163hzwXpUGk6c15P59w8MSBVLuAAzEDJIAHPAA4r56+H3iA/AT/gsV4z8DxsIdB+NngqHxvbW4+6ur6dMtjeOozgGS3ksi2ByYc9cmuufJ9adClrGXNy3391OevZOEZN/wB5RSteV8PaTWHjVqJJrl5rf3mo6d7TlG391ybvZW+vKKKKzOgKKKKACiiigAooooAKCcCior6yj1Kxmt5gWiuEaNwDjKkYPP41M3JRbgrvp01HG19T84P2tfhV+0Zcftraj+0h+xz4u+DfxSt9Q0GHwT4n8K67qPnQxyWNxNIUguIJFVJQ8rBkeRCjdQwOB3H/AASl8X+Ff22/hV8cdc8QfCW5+D/xe8Sa9P4U+LNhBqM0lxNfwWiQq0NxuOxPs8i7PKwFJLAsTvb1L9lr9gHU/wBhX4XDwB8HfEHgfwv4Jju5LxYr/wAJXWoarNLKQZZprr+0o0lmIAAcwgDavykDB9d/Z3/Z30P9m3wZeaXpE19qF5rOpXGtazqt+6ve61qFw26a5mKKqbmwAFRVRFVVVVVQAYeEYRlTesXFpXSunKcZySav7jfPeLb15GtmZVeaVVVYaS5k209HGMZRi3/fSVOzSWnNr3+EPh7q+i/tK/8ABazxt43vprXTfhH+xX4THhfTZZgFs7fWbyIPeSgngeRbKIvUED15m/4LLaxqf7Rf7fn7If7NqtMPBfjjxBc+MfFcSOVTU7TSVSeO2k4+aMvlip6kJ6A19B/A3/gmVp/wP1DxtpNr4m+3fD7xz42uPHuo6PLpzLqF1fTSRzeRPfeeRLZrLGGEQhVmUKjSMm9X6D9of4CeDP2k/wBo3wXrWg+NNB0X41/BN5dT09VaLUJ7O0vomglivrFZY5TbTqMgh4jviUq/DAzQclHCOpq6bU5Lq561JPzUa0ubd+5FLXYzqU3y4pQtHmUoxfRRS9nBLs3BLyU5t6Hz1/wcYahN43/ZL+HvwT01T/aHx6+ImieEhHGBlbVbgXNw2MdFSAA46ZrqP+Cz2p6P+x7/AME3/i9400CO4t/FWreDbT4daLslYiMTTPbW0cMf3VbddsxIGWEaZ4QY8f8AHPw8179oH/g4k+Eej+IPEk3jJfgb4JvvGGrfZLMWOj6PeXpFraRRW++VkchTKTLLLI27hgiqq/Yn7e/7Cdn+3povw60fV/El5omheCfGlh4vv7GC0WZdfFnvaO0clh5aGRkYsA33MbecjKOHVbBKFT4a1VuXdU+aNCXz5YVJK389le+vR7aVPFylBX9jTjyro6lnWS7WbdJN6axTdrGT8C/BOgf8Ew/+CWOkWPkW2m6b8KfAhvb/AAAivPDaGa4dvVnl3kk8ktXkH/BvD8HI/gn/AMEr/DPjHW47e18QfFKe98f+ILtkEbSveTPKjOfRYPLxnoM+9fSP7fH7KLftx/sieNvhOPE114Ph8bWa6fcapbWoupIYDIjSqIyyg70Vk+8MB884weoT4AaDF+ziPhdGtzB4ZXw7/wAIwBDJ5cyWv2b7P8rDo2zuO9b4nEV5yxeKil7SaiorpvOUl5JydP8A8A9Dnw+FhThhsM37kLuT63SjGL83yup5a6nw3/wQx8T2XxCn+OX7RGuXVvpo/aS+J9xb+FVuJNrX9hYRvbWixg/eZkhnbA/hjJ6CqP7Guqax+2H/AMF+v2ivGniJHm8P/s76XZ+BfCNvJzHZXF2gmvJ0B6SPsYFupRlGcCvqD9jf9gSP9ln4efD3wtqHiS18U6N8I7BtO8IxRaP/AGebQNG0TXVz++lE94YmkTzUESATS4jBfIt2/wCxRffDL9pPx38TPhj4o0vwnqHxSjsj4qsNU0JtWtLy4tUMUd3AEubdoZzCdjFjIjbEOwENu05YUsRTdLWFOm6cL7q0Y04yfm4Kadr6zWmjalwqVKM4yVpTmpy67zdRxT7J8i1SuoPukfMnx5u7f9o7/g4j+GGi3LKfD37Nvw71DxlqMruBDbX2oOLeLdzwViQPz0FfohomtWviTRbPUbGeO6sb+BLm3mjOVmjdQysD6EEH8a+R4v8Agkpa6D8dfiF4y0f4h60D8ZtAtfD/AI//ALVsvtuoavHCXDS2lyksSWTyxyPGyrDJGq7fKSLaK+vbGyh0yyhtreNYYLdFijRRhUVRgAfQCs8OnDDQpS3XM36yqTk35q0oqL0dlqk9FtUu8TOotmopX7KEEktdPe9o5La8k03dktFFFUaHyb+314j/AGUdD+JOkr8evhZo/jjxJJp+bC9vPg5f+M2htt7fuxc2+nXKxjfuPllwec7ecnwf/hYH/BNz/o3jwr/4i7rP/wApK/Sqiopx5VbTd7K27v8Af3fV66FSld39Py/q3ZaH5qj4gf8ABNz/AKN48K/+Iu6z/wDKSv0M+F76HL8NtBbwxp6aV4cbT4DpdmmnPpq2tt5Y8qMWzojQBUwPLZFK4wVGMVvUVrze7y/8N16f117mfL7yl6+vTr+ffTsFFFFSUFfiD/wc+f8ABMjUPDHxZ+Hv7UnwPu10H4xP4isNGl07T3EV94gvmcLZ3Fqg5kuEK7ZFwd0Q3HiNs/sj8dfjl4X/AGbPhJrvjjxnqtvovhvw7bNdXl1LzhRwFVRy7sxCqigszMAASRXzZ+xp8D/Fn7Tfxfh/aT+M2k3Gj6tLA8Hw58FXWD/wg+ly/wDLxOvQ6ncrhpG/5ZIViXkMTioc+IhODcXSkpOS3Sv8K85pNLsrz3ikypU5KMqbSl7ROKi9npq2v5Y3Tfd2j9o+jf2dr3xtqPwH8H3HxIs9L0/x9NpFs3iC302Uy2kN6Y185Y2IGV3Z9h0BIwT2dFFdVWpzzc7JXbdlsvJeRnRp+zpxp3bskrvd26vzfUKKa8ix7dzKu44GT1NOrM0BhuXHrX5p/Hv4baL8Qf8Ags7+yv8AA3Q0kl8K/Ajw3qnxI1O3mkNw32iQ/ZbJ5nYktIZTJJubklye9fpZX5d/8E8/AniD9rn/AIKeftY/tDeGvFS6JdaB4ng+GegSXli2o6XeWOnwqt5HJbrNCz5m2ujpKhRxn5lLo2dH/fKbt8CnUfyXJH5qpUhL/t1tapIzxX+6yj1m4wX/AG8+aa+dONRf8E2v+C9l9qvxn/aD/Y/+CPhNpW8TeI/ifa+LrjyQS1jp2lgtNcMQCVUeb17lcV6h8DVa2/4L5/Hpbnb5l18K/C8tnlOfJW7v1fBx/wA9OvPcenHufwU/Y30/wF8a9Y+KvizVP+E2+Kmu2Melya3JZC0ttJsUO4WWn22+Q21uXJdg0kkjs2XkYBQPMP2ltAb4Af8ABS/4Q/GNiYfDfjTSbn4W+I59v7u2nnmW60mWRv4Va4SW3BPG+6jHeqw/7uVKnLeU6km/71Sk6cIrzfLTh5zlK2ljLGKVSFWo9FGNNJf3adVVJyfbRza/upXs20voP426J4aPh218T+KpJI9N+H07+Jg5maOGJ4LeYeZIoOHVFd3AbIDqjdVFfEP/AAQmZfGvgzx1+0d40mjsPF/7V3jK61DQre6AW4/si0SVLC1QdTtt4ZZMDjHNfbn7SHwL0r9p34A+Mvh3rlxfWuj+NtHudFvJrKXy7iGKeNo2aNucMA2RkEeoIrhv2YP2PpfgTofg211zX7HxJJ8O9BTw34bSx0ltLtdPtRHHG8rQmebfcyLEgaXcAFBVETfIXMPeNarN9YpL5tufzfJSSb+zzavY1xUXONNLo23/ANuq0F/h9+pJr+ZReh7dRXxv+2t+yr4s1T9vj4IfGbw78YPFmh/2PqFv4abwBGzf2T4himmMl5K21xhks1uJCCj7jbxcptOfsDVdVtdC0y4vb65t7Ozs42mnnnkEcUKKMszMcBVABJJ4AFEZJ0fay0s5Jrty2ad9rOLT8tU9Uy5XVb2SV9ItPve6atvo0159DjvGeh+HfhTqviz4pah5q3tn4f8AJu7iaYtHbWVp51wVjU/KmWdmcjl9qZJCLj5O/wCDd7wpeyf8E74/iJq0Zj1r43eKdZ8f3m772Ly7fyh+EUaY+tO/4Lm/tN2Sf8Ek/Fr/AA/1jTvE2ofGSO18GeFZ9IvEu49Xk1KZYCbeSMssg8kytlSRhTX1f+zJ8HLT9nn9nPwL4EsY1htfB+g2WkIq9P3MCRk/iVJ/GjCxalXqPpy015Nt1Ki+/wBi35/MzxDUpUYLW/NUfySp036NOql/h02Pl/8A4OAEe4/4J8RwW+37dc+PPCUVnlNx8465Z7ccHnrXX/8ABcK1urv/AIJFftCJa5Mw8F3zNhc5RUy/Y/wBv/rVV/br0L/hpr9rH4E/CGz23Fr4f16P4neLABuW1sNO3rYpJ6NPfvHsH8QtZj/Ca+jfjX8LNP8Ajl8HfFXgvVl3aZ4s0i60i6GM/u54mib9GNcdeM3l1ZQV5SnUcV0a9nTh/wClwlF+h04eUY5jCU3pGNNPyfPOVv8AwCUZLykit+zxcQXfwA8DS2u020nh+waIqNq7DbRlcDtxivgH/grF4B0/4wfHT4G/sh+F1uvsvxe8aXHxE8fs0jTu2j2c/wBrmWRmJwss+yNF+6FhVRwAK+n/APglN401LVP2MvDng/xJI3/Cb/Cfd4F8SwuNsiXengQpLj+7NAIJ0PRknUjrU/xF/YOk1v8AbWk+OXhfxcvh3xVqPhEeCtQF3pP9pBLIXPniWzJmjFvcAsw3Os0Z+QmM7SG9TGSjLHwr0/ehz86fdJOpTffllNU29HePQ8zB05xy36u9JqKhbtL+HO3aUYupZ9JadT3PwX4l0fxVoC3Gg3VpeabbzS2KPbMGiR4JGgkjGOPkkjZCB0KkVi/Ha18e3nwu1KP4ZX3hDTfGhCf2fP4nsLi90tTvXeJYreaGU5TcAVcYbBIIyDp/Db4eaV8JvAeleG9Ega30vR7dba3R5GkkIHVndiWd2OWZ2JLMxJJJNblY1I811f5ndS91LT5fofH/APwjn7fX/Q5fsf8A/hG+Iv8A5aUf8I5+31/0OX7H/wD4RviL/wCWlfYFFAzjfgHafEKy+F9hH8UdQ8G6n40y5vZ/C2n3NjpZG47BHHcTTSjC4yWc5OSABxXVavqkOh6TdXt1IsVvZxPPK7HARFBYk/QA1Yr5U/4Lc/tBzfs0f8EtfjF4gspmi1i+0R9C0rZ99ry+ZbSIKP7wabP4Vz5hWqRoznSXv2tFd5PSKt5uy+Zrg6MZVI05PRvV9l1fyWvkeTf8G8VhL8Sv2fvir8dL3c998fPiRrHiOGRx832CKY2tov0VImx9aw/+CfPjnSfjL/wVZ/a7+O2sahZ2ug+GdV0j4P6BdTuBHvgZRNGjf3pLyaNQB1ZwOpr1j/gnR/wT++IX7G37FXgn4V6Z8VIYfDVjp6SS+f4aWTXtOe4UzXMMF59oFuAs8j+W0lo5VeDuOGGt+zB/wSq0n9lS6utD0HxXc3Hw1m8bT/EBNDurJptRl1KTayJcahJMxnt4plWZVMQlLxx7pWCsH7pU4UcbGEP4dOn7OL6q3s4X/wAXslNJrRtu7Sd35VOpOvhHPl1qVHUa2TTc6iXdfvPZva6S2eqPrI18S/8ABCVJD+zd8VJgVNndfGbxnJZbU2r5X9qSDjgfxB6+mv2p/jtp/wCzR+zz4t8caiGkj0HT3lt7eMbpb66b5Le2jX+KSWZo40UclnUd64v/AIJqfs2ah+yb+xJ4D8Ga15beJYLN9R1906SandyvdXZz3/fTOM+1c9H+LUqdoKPrzyUtO/L7PXtzR7nZiPeVKH9/m+UYSj8ruord7O2x7pRRRVGgUUUUAFFFFABRRRQAUUUUAFFFFABRRRQAUUUUAFFFFABRRRQAUUUUAFFFFABRRRQAUUUUAFFFFABRRRQAUUUUAFFFFABRRRQAV8S/8EtVa2/bS/begudv24fFC0mb5NreS+jWZh5wMjaD+R9cn7ar5J8O6A37M3/BXHxHeXBMHhr9o7w3aPaSlcRDX9HV0khLdPMmsHV1HVhZy/3ami+XE3/nhOHz5oVPypNLu2luzLE/wlL+ScZet1Kn+HtOZ9lFs+Xf+Dq/4TXHjj4M/s665sn/ALI8P/FnTINUljkMf2aG6DRhywwV+YKu4EYLCvu79vTwDoWs/wDBPr4teHbyws/+EfHgbU7b7KVCwxxJZSbAB0ULtXHpgeldh+0p+zj4S/a1+CWv/D3xxpv9qeG/EcHk3MSuY5YmBDRyxOOY5Y3VXRxyrKDXifjj9hD4mfGP4M3Hwq8bfHL+2PhnfWaaXqLWXhRbDxVrNkPlkt7nUhdPb4ljGx3hsoXILYZScjjxGHnVwdfBR09pKTT6Lmpwhra791w5tE9JaarXpozVLGUsY1dQSTS392cpXV7L3lKz1Xwre+nG/wDBu38UfGHxg/4I8fBrWfG815dawNPuLKG5umLTXVpBdSw2zsxJLZhRBk8kAGm/tLJJc/8ABdb9mBbYrvt/AfjKW7AT5vJP2BVycdPMI7j9efr74a/DfQvg78PtF8K+GNLtNF8O+HbOLT9OsLVNkNpBGoVEUegAHuep5r5n+A2hf8NDf8FQfiZ8WIts/hn4aaDF8MdDuMZS5v8Az/tmrPGe6xv9ltyf+ekMq9VNetiq8a+ZqvFaXqyfdJ05wTfrOcE/8R5dLDyo5f7GVr3ppLpdVIycV/hhGTV9bRPrSiiiuc9AKKKKACiiigAooooAKKKKACiiigArwSP/AIJ3eC/Df7RfjT4reD9U8SeA/HHxGW2j8T6hpDWkz6ukCBI1P2y3nMK7VXItzFkqCfm5r3uip5Vzc/WzXye69HZXWzsrg9Y8r20+9ap+qez3R598Bf2XPBP7NketyeFdJaDU/FF4dQ1zVry5kvdT1q5Ix5tzczM0shA4VS21FwqKqgCvQaKKq+y7WS8ktEvRLRLoiYxS29fm936vqwooooKCiiigAooooAKKKKACiiigAooooAKp+IPEFj4T0K81TVLy20/TdOge5urq4kEcNvEilnd2PCqACSTwAKuVyPx1+BXhX9pb4U6x4H8caSuu+FdfiEGo6e9xLAl3GGDbGaJlbaSoyM4I4OQSKzrc/I/ZW5ul9vnb+vQqny8y59uttz83vB//AAUN+AP/AAUb/ach8ffEj46/B3wr8F/hdqrf8IN4O1vxrptjd+KNThJU65qFtLMrrDG2RawSLz/rmAJQD7P/AOHsX7LP/Ry37P8A/wCHD0j/AOSK8r/4h1f2K/8AogPhX/wMvv8A4/R/xDq/sV/9EB8K/wDgZff/AB+tI+7TjTjsvvbe8n3b+5JKKSjGKWfL+8lUe7/BLaK8lf5tuTvKTb9Uf/grL+yxGjMf2lvgDhRk4+IWkk/l9orzD42f8HCv7HHwL0C4vr/46+D9ekhXKWnhuR9auJz2VRbK6592ZQO5FRf8Q6v7Ff8A0QHwr/4GX3/x+j/iHV/Yr/6ID4V/8DL7/wCP1E4yatF2/r+u5pFpbo8x/wCCXH/BSfUP+C2P7VviLx5ovhu+8L/BD4Kk23h+K/KNe69rd1GyG7nC5WMQ2plVI1Y4+1bmJO0J+kVea/ssfsffDP8AYl+G0nhD4V+ENN8F+G5rt7+SysjIyyTuFDSM0jMxJCqOTwAK9Krefs1GMKV7JLV7t7yb9ZN27RskkkkuenGpzSnUtdt2tsktIpfLV/3nJ9TD+JHw90/4q+CdQ8P6pPrdtYakgjmk0jWbzR71QCD+7urSWK4iPHWORSRkZwSK8v8A2Xf+Cefwp/Yx1e/uvhrpPiXw7HqjSy3Vg3jDWb7TZ5pSrSXBsri6ktvtDlQWn8vzW5yxyc+2UVnFKMnOOjas31t29DaSUkoy1Sd/n39Qrn/ir8LtD+Nfw71fwr4ksV1HQ9ct2trqAu0bFTyGR1IZHVgGV1IZWVWBBANdBRUyipLlY4yad0c98K/CureB/Aen6RrXiCbxTfaehg/tS4t1guLuNSRG0wUlWm2bQ7qFV2DMEQHaOhoorSUnJ3ZMYpKyMe78BaTf+N7PxHPaedrGn2slnazvI7C2jkKmTYhOxWbaoLgbiFAJxxVP4w/CTw/8e/hX4i8E+K9PXVPDXirT5tL1O0MjR/abeVCjpuUhlypPIIIrpKKxnThODpyV4u6a6a7/AH3dy4ScJc8dHo79brb7rI8B+CX/AATX+GPwRk8EtDZ6h4gX4ZQNbeDoNWeJrXwujAqTa28McUCzbSV+0OjTkFsyHc2ffmyVO3huxIooraUnL4n3fzerfq3q3u3q9TGnShDSCS2XyWy9EtEtktFoeffAz4A2/wAILvxBrV7qM3iLxl4wulvNd1qaLymuig2wwQx7mEFtCnyRxBjjLMzPI8kj+g0UVP8Aw3yWxp1b7u/3nn03wDh0z9oBfiDoOpSaNfapaLp/iSyEXm2viCGNW+zyMu4eXcws2FmGd0bNG6sBG0XoNFFC0Sitl/ncN3cKKKKACiiigAryb9r/APYy8H/tveCfD/h3xu2sNo/h3xHY+Jo7exuhAt5cWbmSKOfKtvhLYLKME4HIr1mii2ql1i1JeTi00/k0mKSUouD2kmn5pppr5ptAOKKKKBnnvxG+ANv8Wvit4Z1zxBqUl5oPg+QajpugLFst31MFgl7cNuPnGJT+5jKqqOWkO9xEYvQqKKFouVbb/N9fXZeiS2SQPWXM97JfJbL01b9W3u2FFFFABRRRQAUUUUAFFFFABRRRQAUUUUAFFFFABRRRQAUUUUAFFFFABRRRQAUUUUAFFFFABRRRQAUUUUAFFFFABRRRQAUUUUAFFFFABXG/Hf4HaR+0B4CbQ9UkvLGa3uYtQ03U7GQRXuj3sLb4LqByCFkRhnBBVgWR1ZGZT2VFKUU/wfo1qmuzT1T3T1Q07f1+D7p9V1KPhi01Cw8OWMGrXtvqWqQwIl3dwWxtY7mUKAzrEXfYGOTt3NjOMmr1FFVKV3dkpWVjB+JvhrVvGPgXUdL0PXpPDOo38YhTVIrVbiayViA7xKxC+bs3bGcMquVYo4BRofhD8JdB+Bfw30nwn4ZszY6Lo0PlQRtK00jkks8kkjEvJK7lneRyWdmZiSSTXSUUlpe3X9Nvuu/vfcb1tfpf8bX/ACCiiigAooooAKKKKACiiigAooooAKKKKACiiigAooooAKKKKACiiigAooooAKKKKACiiigAooooAxPiD8RNH+FvhebWNcumtbGFkjHlwSXE08jsFSKKGJWklldiFWONWdiQACTivOv2OpfCPinwx4o8ZeC/Hni3x1pXjbxDd38ra5fzTf2JcRkW0unwW8qI9nHC8JU27IGV927kmsn/AIKP/E7Sf2eP2TvFPxWvdHOt6x8L7G51rw9Dljs1J7eW0gO0Hacm5KZYEKHLcEZHG/8ABMbw7o/7KH7H9v4E1e+/4nHw902PV/HmuzmNbNtYvkfUb/fJuz5ieaJHyAFSaLBOSFzp1Ip1ZyduRLXbSTu/kuROT0teHdmdZvmpU468zb+cVb73zqy6+/1ij6mllWCJpJGVEQFmZjgKB1JNeBaV8T/hz+0n+1L4Rl0T4keNLfXvB+l3er2fh21kutM0bxRZzlbc3zLLCqalDE2PLkhkeNTKG53Ia7vwX48+Hf7cv7O66p4d1nT/ABt8PPG9lLbi70+5dYb+Bi0cqblKuvRkZeCOQR1FfMX7P1snxz/4LffGTxRCkZ0X4H+B9J8AaeEGEivL1zqF0Fxx8sYtlI7dK0jGSxUaU1ayk33Voy1/8DcI/wDb197CrVF9Xc4a3cV63nFNLzUeaW+nLs1c+0b7xbpWmXLQ3Op6fbzJ96OW4RGX6gnNQ/8ACeaH/wBBnSf/AALj/wAa+Pv2nvgh4I8T/HPX77Uv+Ceen/GK+uJUabxhLpXgWVtaPlqN5bUL+O6O0AJ+9RT8nAxg1wX/AAzl8Of+kU+k/wDgk+Gn/wAs6mnJyipP+vvs/wAEbzik7I9W/wCCx/7UmpfBD9k3QbXwlrTadq3xS8a6L4Dt9UsbjbNZRX10sdzJDIpykogWUK68oxDDkVxn/BULR/DP/BNf4A+FvjH8NdA0fwfrHhHxjolpqsum2yWzeINNu71ba7t71lANzuW4eUNKWZZQJAd2SfPP+Cj37PNvJ/wTd8E694W+A5+B2nfCP4oaL461HwfaWukwm3srW7UXd4E0mae2IEMjSMQxcLExIGBXpX/BdXw9/wANN/sa+Cfhr4XePWNZ+LXjnw9BpMVs3mefaxXkV5cXQK5/cx28TyM/3QMc5IyUklKNn731mmn/AIH9Xsnr8Lbqrs/fT6o5cVJOM1O/L7Gb/wC3k6t2r295JU3ps+Vro390QzLcQrIpysihgfUGnVHa262ltHEv3Y1CD6AYqSrdr6G1Pm5Vzb9QooopFBRRRQAUUUUAFFFFABRRRQAUUUUAFFFFABRRRQAUUUUAFFFFABRRRQAUUUUAFFFFABRRRQAUUUUAFFFFABRRRQAUUUUAFFFFABRRRQAUUUUAFFFFABRRRQAUUUUAFFFFABRRRQAUUUUAFFFFABRRRQAUUUUAFFFFABRRRQAUUUUAFFFFABRRRQAUUUUAFFFFABRRRQAUUUUAFFFFABRRRQAUUUUAFFFFABRRRQAUUUUAFFFFABRRRQBT8Q+HdP8AF2hXml6tY2eqaZqELW91aXcKzQXMbDDI6MCrKQSCCCCKzdD+Hnh/wD4EfQdC8N6Pp+hwwyKmkafZQ21q4bJZBEAsY3knOcAljnvW9RUyipRce+j/AK+b3Dqn22Pk/wACeBviv+xpofw98PfDn4T+DdU8Eald6zqvjDS9CubXTptAmuHae0tdPieS2tjCjuI3k5JEe4R5aur/AOCdX7JOt/sweAfGWqeMrzT7/wCIXxU8V3vjLxK9iWe2tJ7gqsVnFIwDSR28CRxByq7tpO1QcV9C0VUfdk5Ldrlv2i2pcvpeMd9fdWu985U1J69+b/t60lzer5pX6at20Viiiig0GyRrNGysqsrDDKRkEehrj/h7+zn8PfhHrt1qnhTwH4N8ManfKyXF3pOi21lPcKzl2DvGiswLksQTyST1rsqKFo7rcHqrPYKKKKACiiigAooooAKKKKACiiigAooooAKKKKACiiigAooooAKKKKACiiigAooooAKKKKACiiigAooooAKKKKACiiigAooooAKKKKACiiigAooooAKKKKACiiigAooooAKKKKACiiigAooooAKKKKACiiigAooooAKKKKACiiigAooooAKKKKACiiigAooooAKKKKACiiigAooooAKKKKACiiigAooooAKKKKACiiigAooooAKKKKACiiigAooooAKKKKACiiigAooooAKKKKACiiigAooooAKKKKACiiigAooooAKKKKACiiigAooooAKKKKACiiigAooooAKKKKACiiigAooooAKKKKACiiigAooooAKKKKACiiigAooooAKKKKACiiigAooooAKKKKACiiigAooooAKKKKACiiigAooooAKKKKACiiigAooooAKKKKACiiigAooooAKKKKAP/9k=)"
      ]
    },
    {
      "cell_type": "code",
      "execution_count": 11,
      "metadata": {
        "id": "mLgYP13vYeSF"
      },
      "outputs": [],
      "source": [
        "def Calculate_Mean (glc):\n",
        "\n",
        "    mean_i = 0\n",
        "    mean_j = 0\n",
        "\n",
        "    for i in range (glc.shape[0]):\n",
        "        for j in range (glc.shape[1]):\n",
        "                mean_i = mean_i + (i*glc[i,j])\n",
        "                mean_j = mean_j + (j*glc[i,j])\n",
        "    \n",
        "    return mean_i , mean_j"
      ]
    },
    {
      "cell_type": "code",
      "execution_count": 12,
      "metadata": {
        "id": "CwbN9j-1YeSF"
      },
      "outputs": [],
      "source": [
        "def Calculate_Sigma (glc):\n",
        "\n",
        "    sigma_square_i = 0\n",
        "    sigma_square_j = 0\n",
        "\n",
        "    mean_i , mean_j = Calculate_Mean (glc)\n",
        "\n",
        "    for i in range (glc.shape[0]):\n",
        "        for j in range (glc.shape[1]):\n",
        "                sigma_square_i = sigma_square_i + (glc[i,j]*((i-mean_i)**2))\n",
        "                sigma_square_j = sigma_square_j + (glc[i,j]*((j-mean_j)**2))\n",
        "\n",
        "    return np.sqrt(sigma_square_i), np.sqrt(sigma_square_j) "
      ]
    },
    {
      "cell_type": "markdown",
      "metadata": {
        "id": "V9b0k3ptYeSF"
      },
      "source": [
        "### 2.2.2. Contrast"
      ]
    },
    {
      "cell_type": "markdown",
      "metadata": {
        "id": "4ThTkonyltbe"
      },
      "source": [
        "![Contrast.jpg](data:image/jpeg;base64,/9j/4AAQSkZJRgABAQEAYABgAAD/2wBDAAIBAQIBAQICAgICAgICAwUDAwMDAwYEBAMFBwYHBwcGBwcICQsJCAgKCAcHCg0KCgsMDAwMBwkODw0MDgsMDAz/2wBDAQICAgMDAwYDAwYMCAcIDAwMDAwMDAwMDAwMDAwMDAwMDAwMDAwMDAwMDAwMDAwMDAwMDAwMDAwMDAwMDAwMDAz/wAARCAB/ApwDASIAAhEBAxEB/8QAHwAAAQUBAQEBAQEAAAAAAAAAAAECAwQFBgcICQoL/8QAtRAAAgEDAwIEAwUFBAQAAAF9AQIDAAQRBRIhMUEGE1FhByJxFDKBkaEII0KxwRVS0fAkM2JyggkKFhcYGRolJicoKSo0NTY3ODk6Q0RFRkdISUpTVFVWV1hZWmNkZWZnaGlqc3R1dnd4eXqDhIWGh4iJipKTlJWWl5iZmqKjpKWmp6ipqrKztLW2t7i5usLDxMXGx8jJytLT1NXW19jZ2uHi4+Tl5ufo6erx8vP09fb3+Pn6/8QAHwEAAwEBAQEBAQEBAQAAAAAAAAECAwQFBgcICQoL/8QAtREAAgECBAQDBAcFBAQAAQJ3AAECAxEEBSExBhJBUQdhcRMiMoEIFEKRobHBCSMzUvAVYnLRChYkNOEl8RcYGRomJygpKjU2Nzg5OkNERUZHSElKU1RVVldYWVpjZGVmZ2hpanN0dXZ3eHl6goOEhYaHiImKkpOUlZaXmJmaoqOkpaanqKmqsrO0tba3uLm6wsPExcbHyMnK0tPU1dbX2Nna4uPk5ebn6Onq8vP09fb3+Pn6/9oADAMBAAIRAxEAPwD9/KKKKACiiigAooooAKKKKACiiigAooooAKKKKACiiigAooooAKKKKACiiigAooooAKKKKACiiigAooooAKKKKACiiigAooooAKKKKACiiigAooooAKKKKACiiigAooooAKKKKACiiigAooooAKKKKACiiigAooooAKKKKACiiigAooooAKKKKACiiigAooooAKKKKACiiigAooooAKKKKACiiigAooooAKKKKAPzw/4LBfsRf8NfeL9U1b4f6fp+l/GH4M+GY/HGgaza2iRX1zq4u0axgknVQ8iNDp93FsZiB56nAwK9Zj/aQ8F/8FC/+CSK/ECfQdD8Sab478M+WdF1S0jurdNWk/0b7K8bgjel4fLHcEAjnFer/ss6xZ/EXxF8TPGlnc299ba14om0q1nicSL5GmoliyZHYXMV23/AzXxJ8FPhlr37L3/BUrxT+zbbaTdTfCj4l+IIfjZ4fmRf9F0hLdjJqFkOeP8AiZpYyKo4CzHpkZKNOM4rCTXuzSkvJv3p9tfZu/l7JLdl1JShJ4iPxU3Z+i91LztUVl/18k9kffX7M37L/gX9kX4S6X4N+H/hfQfCujadBHG0OmWMdqLqRUCmaXYB5kjYyztliTya9ArA+KHhTVPHPgHU9J0XxRqvgvVL2LZba3ptta3F1p7ZB3xx3UU0DHAIxJGwwTxnBHgv/DFPxm/6PF+M3/hKeDP/AJTVU6kpzcpb9zKnTjCCjHZH0zXxL/wXx03xBoX/AATT+LnifSPHXjDQhYaLDCNM02a3t7WYvdxRuzyLD9pO5JGUqJghHVeufavg1+zD8Svhz8QbPV/EX7SHxM+IOk2yyCXQ9W0DwzaWl2WQqpeSz0yCcbSQw2SrkqM5GQfJ/wDg4DkWP/gj/wDGoswUf2ZajJP/AE/W1S1ZwfmvzX9f8E6cJrWivNH114ZOfDen/wDXtH/6CKvVR8Ltu8M6cRyDaxYP/ABV6tKvxv1Zw4X+DD0X5BRRRWZuFFFFABRRRQAUUUUAFFFFABRRRQAUUUUAFFFFABRRRQAUUUUAFFFFABRRRQAUUUUAFFFFABRRRQAUUUUAFFFFABRRRQAUUUUAFFFFABRRRQAUUUUAFFFFABRRRQAUUUUAFFFFABRRRQAUUUUAFFFFABRRRQAUUUUAFFFFABRRRQAUUUUAFFFFABRRRQAUUUUAFZ/izwjpPj3w5eaPrml6frWkahH5V1Y39slzbXKf3XjcFWHsQRWhRSaTVmCbTujiPgr+zN8N/wBmvTruz+HPw+8EeAbO/YPcweHNCtdKjuGGcF1gRAxG44Jz1PrXVzeHtPudet9VksbOTVLSCS2gvGhU3EMUhRpI1fG5VZo4yyg4JjUnO0Y+af8Agr9pX7Q0n7F2uax+zL4vPhf4l+F3GrJbDSLLUm1+1jR/NskW6ilRZGBDoQuS0YXIDE1+ef8AwQj/AG7PjV/wVs8D+I9H8TftefEPwb8WvB87PqOhWvgrwmIbmzZtqXEAk0wv8rfu5FJJVtp4DgU6MpVZzjHeCv522uvJap9rPS2oVIqlCM3tJ2+fZ+b0t3ulvoftdRXyv/wxB8ev+j0fit/4Q/g//wCVVR3X7D37QDwMIf21PilHL/Cz+BPCDqPqBpYz+YoA+rK8/wDjJ+yh8Lf2ipFf4g/DX4f+OmWNYVbxD4etNUIRWLKo8+N/lDEkDoCSetfCf7Sv7D//AAUg8N6JfX/wn/ba0PxVdRgPb6R4i+Gmg6U8gGMr9pitZkLHnGY0HQEj71e0f8EX/wBqf4s/Hf8AZ21bwn+0Jpt3pHx7+GOpvpXiqG5tILU38cmZbS+jW3AgaKWMlA8I2M0EmO4qqcFUUn1jZ2e9r2uujs2k7PqE5OFu0na69L69Veztp0PqD4Y/Bzwj8E9CbS/BvhXw34R02RxI1poumQ2EDMFChikSquQqgZx0AHaukoopOTerEklogormPhX8ZfDPxt0nVL7wtqkerWujaveaFeyJFJH5F7aTNBcQkOqklJFZcjKnGQSOa6el5/P79hvRtPdNp+TWjXqnowooooAKKKKACiiigAoormPi/wDGXwz8BfBLeI/F2qR6Nosd3a2DXLxSSKJrq4jtoEwis3zzSxrnGBuySACQdbfL79g32Onorx/9rf8AaFvPgS/w9sbXw/4w1eLx74stvDV1faBpD6k+hRSxyv8AaZlUHy4t8aRmVgRGJd2Dtwfnn9rvx34u/YI/bW/Z5vvCfijxRrXgP4zeLm8D+JvCut6pc6ykc88DzW+oWctzI81u0RiYPGj+UyN9wN81VTi5SjH+aXKv8TtZfNySv3avZXaKnuQlJ9IuX/bqvf5rlbt2Xeyf3NRRRUgFFFVb7W7PS7qzguru1t59QlMNrHLKqNcyBWcogJyzBVZsDJwpPQGgC1RRRQAUUUUAFFFVZ9bs7XVrfT5Lu1jvruN5YLZpVE0yJtDsq5ywXeuSBgbhnqKALVFFFABRRRQAUUUUAFFFFABRRRQAUUUUAFFFFABRRRQAUUUUAFFFFABRRRQAUUUUAFFFFABRRRQAUUUUAFFFFABRRRQAUUUUAFFFFABRRRQAUUUUAFFFFABRVWw1uz1W5u4bW7tbmbT5fIukilV2tpNqvscA5VtrK2Dg4YHoRVqgAooLbRk8AdTVbR9Zs/EWlW99p91bX1jdIJYLi3lWWKZD0ZWUkMD6g0AWaKKKACiiigAooooAK/AP/gvP+wr4y/4JG/tseH/24/2ebdtO0ifVlk8YaZbIRa2l3K2JGkRePsl4CUkH8MrZBBddv7+Vz/xY+Ffh/wCOPw013wf4r0u11vw34lspdO1KxuU3xXMEilWUj6Hg9QcEcisp+0hONehpOO3Z90/J9emzs7WNacoOLpVleEtH+jXmum3VX1PNf+CfX7dHg3/gox+yr4Z+Kngm4zp+uQ7LyykYGfSbxMCa1lA/jRu/RlKsOGFe1V/OH8DPHHi3/g1V/wCCtd78P/Fd1qmrfs1/FqZZra+dSypbF9sV4O32m1LeXMq8vGQ2OYwP6NtP1CHVtPguraRJre6jWWKRDlZEYZDA+hBBrsqezqU44mh8Er6dYtbxfp08vNO3LGM6U3h62so7P+ZPaS9eu2vRJomrFk8AaW/xBi8ULb+XrUdg2mNOh2+fbmRZAkg/i2MCVz93zJMY3tnaorDrf+u35Oxr0t/Xf8wooooA+Uf+CRP/ACR34rf9lk8a/wDp5nr1L9rLwd8ZPGdp4Lh+D/jHwr4Ma18SWtz4ouNZ0w373mkJkzW9suCqyudq7mxgEkMpAz43/wAEvNYvPD/7N3xqv9P06bWNQs/iz46ntrGJlWS9lXVrgpEpYgAswC5JAGa4/wAWfGrx5oH/AAVq+A/wn8P+JtR1DVrzwtqvi/4sQSXs02mJZGNILRILZmaK3IvOIzGFYop3s5Zi2lNc0qMFvy03/wCA0+fXurRfN5aWdzTFaVcTJ7c9X8ajj8neSUfP0bX3hRRXn/xx/ay+Ff7MR07/AIWV8TPh/wDD3+2PM+wf8JN4itNJ+2+Xt3+V9okTft3LnbnG4Z6isrpbkJN7HoFFfP8A/wAPYv2Wf+jlv2f/APw4ekf/ACRTk/4Kv/stSOFX9pT4AszHAA+IWkZJ/wDAimk27IR79RUdtcx3ttHNDJHNDModHRtyupGQQRwQR3rN8d69eeF/BWrajpul3GuahY2kk1rp8DBZL6VVJSJWbhSzYGTwM5NEtNwj71rHB/theFvi140+Clxp3wV8U+GPBfjie9tdmra9p7X9tbWolU3G2IAhpDGGChhjJ6r94eP/APBZhJIv2BplmkWWZfF3hESOq7Q7f8JDp2SBzjJ7Vxf7cvxN8efs3/Fn9luy0XxVq198Rfij8SbTSNetvt0x0m70oW08uoRx2RbyY44l2bJAnnDYhaRiWLdx/wAFpP8AkxG8/wCxx8Jf+pFp1aUY+9Tf/T2K+adN6f3dV8+b1Li17RL+5f5NzWvneL+VvNH0x468daT8M/CV9ruu30Om6Tpsfm3FxKeFHQAAcsxJAVQCWJAAJIFfPafDSL4g/HDwv8cPipaXFj/YNwmkfDzwxLHuk0OS/kS3a+uVBIN9MrKuOltFuXljI1eh/tifsR/DT9vn4Ur4H+K+g33ibwoLtL59Oh1u/wBLjnlTOwymzmiaRVJyEcsoYBsZUEeHfs4/8G/37Iv7JPxq0H4ifD/4RroPjHwzM1xpmoN4n1m8+zSMjRlvKnu5Im+V2HzIcZyMEA1nR0q809EnpbV269tXqlq7b6vRRV/h2hu07309FfXTq9Ndtr3+yKK+e/26vFWo+EPh9418RapqWueHfAXgLwRqXiC6v9M1GSwnu79UcwqskLrLiFIpGKZCu00Wd20ivPf+Ce+l/ED9pT/gm98N/Hnxm8beI/8AhMNe8IW+pmbRb+bREsw8G9LiRbd086d02SP5u6IHhY1G7dPOvZVKr2hZv589vn7jetlazvqVyvnhD+a6XyUX/wC3rbrdW0PsK7u47C1knmkWOGFC8jscKigZJJ9AK+ev2G/EEv7UEWofHfUg0lp4tkmtPBFu/wB3TfD8cmyKZRnAkvWj+0uwwTG1uh/1Qr5U+H//AAUe8WftJ/8ABth8QPjRq1wv/CZW3g3X9Ll1GGLyVvLi3aezju1VQApcBHIUABi2MAcfe37KngOz+Fv7MPw58NafGkVjoPhnTtPgRPuqkVrGgx+VdDounOopbx5Uv+3uZt+WkVbylJMzlLSEe7nfycOVW7NXk3p1imjT+OmneMtX+DXie1+Hmo6Lo/jq402ePQb3V4GnsbW8KERSTIvzMgbBIAP0PQxfs/eH/GfhX4JeF9N+IniDT/FXjqz06KLXNXsLMWdtqF2F/eSxxDARSegAH0HQfGn/AAV2/aD+IHwS/Zqutc0HUtb8O/FTxj450/wV8LtMtNQkiiaaS8jQT3EMbmO5EqRTylZldViaNQqsXLfemmC4XTbcXbRtdCJRMYxhC+BuwPTOcVnTV6bqLZtL5qKlp20muZd7XvbSqmk4xfZv5Xtd91eL5X5Sto9Z6KK5n4u634g0LwJdP4W05NS8QXMkVpZpL/qbdpZFjNxLyCYolYyMoIZlQqOSKkEcf+0t4S+L/ivXvh7/AMKt8W+FvCel2PiKG68YnVtNa9uNS0lQS9raj7qSO2BvJUqOQeNrbX7Rnwdk+NHw1uLLT75tF8T6a39oeHdYjGZNI1GNT5Mw/vJklJEPyyRvIjZViK+ZPiX8UPFHwe/4K0/s/wDwv8MeJvEOs2njLw14h1rx3BqmoS3cM9tbxwLa3KQsfKtX+0lgBbpGhDsCpGMfa9HLeinF/E5NPqmny6PsnC67O7sm2PmtUs+iWnk/e1W12pa91bWx5d+xp+0fH+1X+zxofjBrNdM1aRp9N1vTg+/+y9UtJntr22z3EdxFIoPdQp716jXxx/wTG1U+H/2pf2xfA8bj7D4f+KEesWsQztg/tPSbO6lA4wMzea+B3dvx+x60m1JRqLTmjGVu3NFSt8r2+REdHKC1UZSin1ajJpN+bSu/MKKKKzKCiiigAooooAKKKKACiiigAooooAKKKKACiiigAooooAKKKKACiiigAooooAKKKKACiiigAooooAKKKKACiiigAooooAKKKKACiiigArxb9uP4+6p8F/hpo+k+FXgHxA+JOtW/hLwsJUDpBd3AZpLp1J+ZLa3jnuGX+IQbf4q9pr45/aQ1NvGX/BaD9m3wzMwax8M+DvFfi5YiTg3R+xWEb4xjKx3E4Hcbz+JGKnUjTfVu/moxc5L5xi1fpe4OXLCU10Wnq2oxfmlJptdUfUXwl+Fum/Bj4e6f4d0gTSW9ihL3FzIZLi+mYlpbiaQ8vNLIWd3OSzMTXwn/AMFEP2qP2hPg5+0T+yrol5deCPBfhv4lfFGy0PWdO8OXt1ql5ewL+92NfTQ2wWJwuHjW3y2cF9uVb9EK/O3/AILhf8nVfsI/9lrtf/RDVVOTeKoN9alNeWs4p6emltjHEe7hK/LuqdR366Qk9+99b736n6JV85X3i0fsnfto+HvDpbyfAXx0ku1sICf3ekeJII2uZEjH8Md7brNIVGAJrV2xunYn6Nr44/4LeaqfAv7LXgnxxC4hvvh/8UPCWsW0vO5d2rQWsoGBn5obmVCO4Y0Uv41OP80oxfpOSi38r81u6RrU/hTfaMpL1im199rPybPseiiipGFFFFABRRRQAVFe3sOm2c1xcTR29vboZJZZGCpGoGSzE8AAckmpa+LfjT4jvv8AgqL8aNa+Dvha8urX4F+C7z7J8TPEVnKY/wDhKLxMFvDlpKvJjHH2yVTwD5IO5n2lpSlyQ389klu35K69W0lq0nWiXPLZfe30S83+V27JNrD0X4d6T/wWS/aE8M/EjxBodlefs+/B/VpLvwKL20VpPHWrpmN9VBYbhp0RBWFRgXDgyEFFjz93AYFU/Dvh6w8I6BY6Vpdna6dpmmwJa2lrbRCOG2iRQqRoq8KqqAABwAKuVUuVLkhsvvbe7fm7L0SSWiSM1dvnnv8AkuiXkrv1bberYUUjuI1LMQqqMkntXivwT/bO8PftNftEeLvC3w/1LTfEfh34cQLaeJNYtG863XVpWBjsYZVOxniiSRpsZ2mWFc53gTHWXKuzfyXX8l6tLdop6R5ntovm+n9dE3sme10UUUAfKP8AwSJ/5I78Vv8AssnjX/08z14Z+wvB4mk/as/as+JmqWy2/wAbPHXjUeDfDWg6iN02jaBpwSK2vHiyGFo4ka5LghJMKFJd1B94/wCCSVnNZfB/4qLNFJCzfGLxo6h1K7lOsT4Iz2PrX1TV03yOnU/6dRj98abv90XH0kzTF+9Wrw/6fVH62nUsn5Xal6xQLwvPJ9fWsvxJ4I0XxmIRrGj6Xqwt8mIXlqk/l5xnbuBxnA6elalFQZ7HLf8ACjfBP/Qn+Fv/AAUwf/EUq/BDwWjBl8H+FwwOQRpUHH/jtdRRQAKNowOAOAB2oorwH4o/Hr4veAf2yNN0O1+HNvqvwWfwzLeXGvWQnvNYu9Y8wrHZRRR/u4UCAMZLgoh38SKVKkvql3v+Cb/G1l3bSWrC2jfa34tL9bvsrt6Jnz/45Zv2lP8Ag4k8F6SF8/R/2c/hpd67M2crFqmsTC2jUjs32aMsPY16h/wWk/5MRvP+xx8Jf+pFp1O/4J1fsceKPhL8V/jP8aPiPHa2nxG+OmtQXs+lW84uE8O6XaRGCwsTKuVklWMlpWQlN7EKWADF/wDwWas5r79ha7jhikmk/wCEw8JnailmwPEWnE8Ctafu/Vqb3UoN+sqnO1/265ct1o+XTQuL5q85rZ6L0jBRv6NpyX+LVJ3PqmiiisiD4A/4OSfibqWi/wDBOxfhz4fhu7zxL8cvFGl+BbCztArXN0lxOJLhIwzAZaGF05IHzjJA5rv/ANq74yjxV+xbdfCj9n6W28Q/EPxVoieFNGtLR/l8KRSRfZ3vNRIBNnHbRByVlCu0kYjVS52151+3F8OvjF8dP+Cj3wH8ZWvwN8ea38K/gTqmqahcJba14cjuvEGoz2/k2l5bQzapGPs8XLEzmKYFuIjzX6BwyGWFWZGjZgCUbG5fY4JHHsSKUacJ4Zxqaqcm2tnypKKi+tnaT8lJ2ad7VKpKGIjKnvCOj3XM5NtrvooLs2tmt/i34jf8E3NP+Bv/AAQw8Yfs5eDt19Jpvw71HTbafywH1HUGgkmaYr/eluCWx23D0r6G/Yo+KVr8bv2PPhb4uspPMt/EfhTTL9TjBBktY2YEdiGyCOxFemsodSrDKsMEHvXgH7LPg2X9kXxdqnwouI5F8G6hqF1q/gO8I/cwwTu1xcaQzfwyW8rSvEpwGt3ULkwSY3daVSdSVTVzs/nHmuvmpX7JRa3aRiqMYU6cYbQ5l8pcur9HH19670Ta8B/au0mT4hf8Fs/hFdeO/M0f4afB3wXe+KvD8lz/AMe/iPxFdTfYxDCv/LW4ghwyxrmTMqkD5q+h/j5+11qH7HH7D2vfF74g+F9c1m68O2jale6H4dtBcXsUck+Iodu/buijeMSybto2SN0r3es7xbqV/pHhq9uNL05tW1GKIm2tBMkPnydFBdiAq55J5IAOATgHnlzKgqUd1d39ZOW3ezUfSKNo8rr+0lqvdVr20SStfom7y9ZNnK/sx/tBaR+1V8AfCnxD0K11Kw0vxZYJfRWmow+TeWROQ8MyZO2RHDIwycFTXd1zXwh8Bt8NPh3p2kTTx3V5GJLi9uEXatxdTSNNcSAdg0sjsB2BxXiGoftIfHDwz+0p8T9GvvhHHqXgPSdNtD4BuNJleXUPFF66bp/tEzlbS0hRzsxM6ONpYeYGAGlaUfaPkWmrS30XS/V9ur+8zpRl7NOTu9L9N9L26d30R4r+xmzftHf8Fx/2nviSy+dpfwn0LR/hbpE2dy+aQb++C+hWVkU19/V8z/8ABLL9iLVv2JvgJrkPi7ULHV/iN8SPE1/428YXdkWa1/tG9cM0MJYBmiiRUjViAW2k4GcD1L9pb4l614M8EnSfB1qmo/EDxMr2Xh+2cZhglIAa8uD/AA21uGEkjHrhY1y8iKxUvCnClHVxilp1k/enZ7Wc3J32s77FRtOrOpspN6u/wq0Ytrf4Ixut79L6Hgn/AAS60g+J/jf+1f8AEZArWPjP4qzabYShRieHSbG1052BxyBcQ3C/8ANfYNcL+zP8AtJ/Zg+BfhzwLo8k11a6FbbJbuf/AF+o3LsZLi6lPeSaZ5JGP95zXdVU7JRgndRjGN+/LFRv87X+ZMXdyna3NKUrduaTdvle3yCiiisygooooAKKKKACiiigAooooAKKKKACiiigAooooAKKKKACiiigAooooAKKKKACiiigAooooAKKKKACiiigAooooAKKKKACiiigAooooAK+O/2q9Nb4f/8ABXf9l/xrNlNO8SaN4n8Byy7RtW5lgt9Qt1Jx/ELGcD3Hvz9iV5X+2F+zxL+0f8IRp+l3kWk+LfDuo23iLwvqUilk0/VLRxLAzgcmJyGikUctFLIO9EZclSNR9Hr6STjKy6vlk7Lq7By80JQ7rTtdaxv5cyV/K56oTivyz/4LL/tPfDv4gftM/sZXnh3xr4b8SWfhH4uQaprlzo1/HqMOjWqRtG81y8JdYUVzglyMYPocfo98FfimPi14Hhv7jT7nQ9atW+yaxpFz/r9JvFA8yFiOGAyGR1ysiMjqSrA111VZwrQn/JKMvXlkpLXs7fdsTOKqUZ039qMo+nMnF/NX+85v4ZfGTwh8atJur/wb4q8N+LLGxuTZ3Nxo2pQ30VvOEVzE7RMwWQI6NtODh1OMEV8xf8FndIPxJ+CHwx+HNuFkvviR8VfDGmxxbQxaG2vk1G5bB7Jb2UrH6V9gltoyeAOpr5+8IeDJf2mf2rLD4n38Mi+Cvhza3OneCklXA1W+uQEvNWC/88xEv2eBj95XuXGUkjYlNr20JL7Moyf/AG61K3/bzXL3V77Jscv4U0/tKUV6yTin/wBu35n3s7atI+gaKKKkYUUUUAFFFR3U/wBltZJdkknlqW2Iu5mwM4A7k0pSSV2C10PH/wBvX4W/Fb42/sz694R+DvjLRfh94u8QR/Y/+Eh1CCWdtMt2BErwLHg+eR8qsThMlhkgV+f/AMEP+CUP/BQz9m/4WaN4J8Eftm/Dvw/4X0CD7PY2MHwz0thGuSSWd7RnkdmJZndmd2YsxJJNfpx8D/ilJ8avhZpPiiTwx4q8GtqyNINH8SWa2eqWYDso86FXfYWChgpbIDDIByB1lP2fJKXna/y2+67+99xuXMku17fPf8l9x+Y3/DCH/BTj/o+jwL/4bHSf/kOmTfsF/wDBTaeJkb9ujwOFbg7fhnpSn8xaZr9DNK+Lcmq/HDVvBf8Awivi63h0nSrfUz4insVj0W7aV3T7LDNv3SToE3OoTCqy/Nk4rsKOl/67C2dv62v+p+Mf7RX/AAQf/by/at8PyaT46/bk/tLSbjInsLTTrjS7W5BBBWSK18pJFwT8rAj2r71/4I5f8E1rT/glX+xLo/wv/tKy17XPt1zqmt6tawGGPUbqZ+GCt8wCxLFGMn+CvqevOf2gv2kdL+As/hPS3tZdY8U+PtXGh+HNIhkEb39z5bzSMznIjhihjklkfBKqhwrMVVqpzcE4Q+1ZPTV66L77fh2JnDnalL7N2vLTV/df5Ho1FeS6P+03NoHx50P4b+OtFsfDfiPxdYXOoeHpbDU31Gw1ZbXYbmESvBAyXEayK/lmPDJllY7XVfWqnon0f+dvzTK62CiiigAooooAKKKKACiiigAooooAKKKKACiiigAooooAKKKKACiiigAooooAKKKKACiiigAooooAKKKKACiiigAooooAKKKKACiiigAooooAKKKKACiiigAooooAKKKKACiiigAooooAKKKKACiiigAooooAKKKKACiiigAooooAKKKKACiiigAooooAKKKKACiiigAr54/4KOfH/wAQfs1fs9eMPGtpqU/hvQfCXhy71NtStY7a4vb7UsrHY2EMMySKRLI2GJTJJjVSCWI+h68F/b+/ZP1T9rnwT4H0uxutNez8KeNNM8Vajo+ozPb2fiKKzdpEtZZUjkaNRN5UvEbgmEKRgkiJx5rRbaTaTa6Juzf/AG6nzJdWkndXRpTkotyteybt3a1UfLmty36Xvpuen/AjVPE2t/BLwfe+NLeztfGF5otnNrcNopW3hvWhQzqgPIUSFgAewqz8TrzxFB4eig8L2sEuqX1zHbfaZyvk6bEx/eXLoWBk2KDtjXlnKA4Usw8o/aJ0T4veAv2Q/Et14C8ZeD7D4lQyya0+q+K4J7rRbOHzvOmgVEIdYo4AYozj+EMwyxNd3p3x80bSfAbXXiTVNF0vxFpPhqPxHrmki8T7RpkBiLPI0ZbesQdZFDsACUIzkGtMRVi+etK0UndpbWs5aeWjV1rp00ZjRpyioUtZNppPvayu/Ntp2fV212PIf2Gv2i/F3xc/aG/aK8IapqbeJPDHwp8S2OgaJrF1BBBd3U7adDcXkMpt444mEUsigMsYI3kHOAa1Lvx9+1kt1IIPhP8As7yQByI2k+LGsKzLngkDw6QDjsCceprif+CIngXULD9gyx8aa7azWfiH40a7qvxD1JJAUmX+07qSaAN3BW1+zqPQAV213/wS6+Fl7dSTSap8cPMmcu2z42eNEXJOThV1UAD2AAFVWpzpyVOe8YxUv8SilL/ya5UZwkpShs5Plf8Adu+V/NWZH/wsD9rf/okv7Of/AIdrWf8A5nK8L/a61TxBef8ABaH9hq31u1s7Nn0TxhdXltZ3L3VnBff2bAHEcrpG0irlgrtGjFTnauSB7p/w6w+FP/QU+Of/AIe/xr/8ta1P2i/2LLf4k3/wl8SeGL5tP8Z/A/U/t/hy51W5mvVvIHtmtLqyup5C87LPAxBmLPIsipIfMwVZ0pRhUjOXRv7nGUb/AC5lK1m3bTXRzKLlCUE94v79Gl87ct7pK+vl4b/wVPvbvT/+CgH7Cslh/wAfT/EXUoXK/e8h9InEo+mzOfoK+6q8Dvf2WdZ+NP7V3gX4p/EJNDsT8LbK+i8M6JpN5JqEK3t6ixT3008sELFlhUxRxqmAHdizEqqe+VMfdpKL3vJ+l7JL8Ob/ALes9boqetTmWyil9zlJ/wDpVvl2s2UUUVIBRRRQAUUUUAFFFFABRRRQAUUUUAFFFFABRRRQAUUUUAFFFFABRRRQAUUUUAFFFFABRRRQAUUUUAFFFFABRRRQAUUUUAFFFFABRRRQAUUUUAFFFFABRRRQAUUUUAFFFFABRRRQAUUUUAFFFFABRRRQAUUUUAFFFFABRRRQAUUUUAFFFFABRRRQAUUUUAFFFFABRRRQBR8R+GbHxdpbWOpW6Xlm0iSPC5OxyjB13AfeG5QdpyDjBBFec+P/ANib4W/FL4lal4u17wfY6hr+uWEGlarOZ5o49Ys4WZ4re7hRxFcxKzsQkyOvTjgY9Uoo2d1/XT8tA3Vn1/4f89RsMKW0KxxqsccYCqqjCqB0AFOoooAKKKKACiiigAooooAKKKKACiiigAooooAKKKKACiiigAooooAKKKKACiiigAooooAKKKKACiiigAooooAKKKKACiiigAooooAKKKKACiiigAooooAKKKKACiiigAooooAKKKKACiiigAooooAKKKKACiiigAooooAKKKKACiiigAooooAKKKKACiiigAooooAKKKKACiiigAooooA//9k=)"
      ]
    },
    {
      "cell_type": "code",
      "execution_count": 13,
      "metadata": {
        "id": "tTKbHbmqYeSF"
      },
      "outputs": [],
      "source": [
        "def Calculate_contrast (glc):\n",
        "\n",
        "    contrast = 0\n",
        "\n",
        "    for i in range (glc.shape[0]):\n",
        "        for j in range (glc.shape[1]):\n",
        "            contrast = contrast + (((np.abs(i-j))**2) * glc[i,j])\n",
        "\n",
        "    return contrast"
      ]
    },
    {
      "cell_type": "markdown",
      "metadata": {
        "id": "JASk1eF_YeSG"
      },
      "source": [
        "### 2.2.3. Correlation"
      ]
    },
    {
      "cell_type": "markdown",
      "metadata": {
        "id": "qv-wctpVlvXc"
      },
      "source": [
        "![Correlation.jpg](data:image/jpeg;base64,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)"
      ]
    },
    {
      "cell_type": "code",
      "execution_count": 14,
      "metadata": {
        "id": "38SRKUA3YeSG"
      },
      "outputs": [],
      "source": [
        "def Calculate_Correlation (glc):\n",
        "\n",
        "    Correlation = 0\n",
        "    \n",
        "    mean_i, mean_j = Calculate_Mean (glc)\n",
        "\n",
        "    sigma_i , sigma_j = Calculate_Sigma (glc)\n",
        "\n",
        "    for i in range (glc.shape[0]):\n",
        "        for j in range (glc.shape[1]):\n",
        "                numerator = (i - mean_i) * (j - mean_j) * (glc[i,j])\n",
        "                denominator = sigma_i * sigma_j\n",
        "                Correlation = Correlation + (numerator / denominator)\n",
        "\n",
        "    return Correlation"
      ]
    },
    {
      "cell_type": "markdown",
      "metadata": {
        "id": "C4caMq5wYeSG"
      },
      "source": [
        "### 2.2.4. Energy"
      ]
    },
    {
      "cell_type": "markdown",
      "metadata": {
        "id": "Mxg98EcklyV7"
      },
      "source": [
        "![Energy.jpg](data:image/jpeg;base64,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)"
      ]
    },
    {
      "cell_type": "code",
      "execution_count": 15,
      "metadata": {
        "id": "2sOkoTRwYeSH"
      },
      "outputs": [],
      "source": [
        "def Calculate_Energy (glc):\n",
        "\n",
        "    Energy = 0\n",
        "\n",
        "    for i in range (glc.shape[0]):\n",
        "        for j in range (glc.shape[1]):\n",
        "           Energy = Energy + (glc[i,j])**2 \n",
        "\n",
        "    return Energy"
      ]
    },
    {
      "cell_type": "markdown",
      "metadata": {
        "id": "broLGm_GYeSH"
      },
      "source": [
        "### 2.2.5. Homogeneity"
      ]
    },
    {
      "cell_type": "markdown",
      "metadata": {
        "id": "aw8JGu5_l1Kg"
      },
      "source": [
        "![Homogeneity.jpg](data:image/jpeg;base64,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)"
      ]
    },
    {
      "cell_type": "code",
      "execution_count": 16,
      "metadata": {
        "id": "mP-X3uVBYeSH"
      },
      "outputs": [],
      "source": [
        "def Calculate_Homogeneity (glc):\n",
        "\n",
        "    Homogeneity = 0\n",
        "\n",
        "    for i in range (glc.shape[0]):\n",
        "        for j in range (glc.shape[1]):\n",
        "                Homogeneity = Homogeneity + (glc[i,j] / (1 + np.abs(i-j) ))\n",
        "\n",
        "    return Homogeneity "
      ]
    },
    {
      "cell_type": "markdown",
      "metadata": {
        "id": "hVEO56kQYeSI"
      },
      "source": [
        "# 3. Extract Features"
      ]
    },
    {
      "cell_type": "markdown",
      "metadata": {
        "id": "0CiUtOwFYeSI"
      },
      "source": [
        "## 3.1 For one Image"
      ]
    },
    {
      "cell_type": "code",
      "execution_count": 17,
      "metadata": {
        "id": "pcxmhF0mYeSI"
      },
      "outputs": [],
      "source": [
        "def Extract_feature_img (img_as_arr):\n",
        "\n",
        "    values = [i for i in range (0,np.max(img_as_arr)+1)]\n",
        "\n",
        "    windows_left = split_to_windows (img_as_arr, 0)\n",
        "\n",
        "    glc_left= create_GLCM (windows_left, values)\n",
        "\n",
        "    contrast_left = Calculate_contrast (glc_left)\n",
        "\n",
        "    Correlation_left = Calculate_Correlation (glc_left)\n",
        "\n",
        "    Energy_left = Calculate_Energy (glc_left)\n",
        "\n",
        "    Homogeneity_left = Calculate_Homogeneity (glc_left)\n",
        "\n",
        "\n",
        "\n",
        "    \"\"\"windows_below = split_to_windows (img_as_arr, -90)\n",
        "\n",
        "    glc_below= create_GLCM (windows_below, values)\n",
        "\n",
        "    contrast_below = Calculate_contrast (glc_below)\n",
        "\n",
        "    Correlation_below = Calculate_Correlation (glc_below)\n",
        "\n",
        "    Energy_below = Calculate_Energy (glc_below)\n",
        "\n",
        "    Homogeneity_below = Calculate_Homogeneity (glc_below)\"\"\"\n",
        "\n",
        "    features_list = [contrast_left, Correlation_left, Energy_left, Homogeneity_left]\n",
        "\n",
        "    return features_list"
      ]
    },
    {
      "cell_type": "code",
      "execution_count": 18,
      "metadata": {
        "id": "aSbrkQRbcQ0e"
      },
      "outputs": [
        {
          "data": {
            "text/plain": [
              "\"header = ['contrast_left', 'Correlation_left', 'Energy_left', 'Homogeneity_left', 'lable' ]\\n\\nwith open('data/features.csv', 'w', encoding='UTF8', newline='') as f:\\n    writer = csv.writer(f)\\n\\n    # write the header\\n    writer.writerow(header)\\n\\n    label = 'test'\\n    data = [1.48098776e+02, 8.70376201e-01, 7.28029988e-04, 2.11172579e-01]\\n    data.append(label)\\n\\n\\n    writer.writerow(data)\\n\\n    \""
            ]
          },
          "execution_count": 18,
          "metadata": {},
          "output_type": "execute_result"
        }
      ],
      "source": [
        "\"\"\"header = ['contrast_left', 'Correlation_left', 'Energy_left', 'Homogeneity_left', 'lable' ]\n",
        "\n",
        "with open('data/features.csv', 'w', encoding='UTF8', newline='') as f:\n",
        "    writer = csv.writer(f)\n",
        "\n",
        "    # write the header\n",
        "    writer.writerow(header)\n",
        "\n",
        "    label = 'test'\n",
        "    data = [1.48098776e+02, 8.70376201e-01, 7.28029988e-04, 2.11172579e-01]\n",
        "    data.append(label)\n",
        "\n",
        "\n",
        "    writer.writerow(data)\n",
        "\n",
        "    \"\"\""
      ]
    },
    {
      "cell_type": "markdown",
      "metadata": {
        "id": "PmNr3uRYYeSI"
      },
      "source": [
        "## 3.2 For Data"
      ]
    },
    {
      "cell_type": "code",
      "execution_count": 19,
      "metadata": {
        "id": "mZ6PHPJcddXO"
      },
      "outputs": [],
      "source": [
        "def extract_features_data (images_as_array, label):\n",
        "\n",
        "    header = ['ID','contrast_left', 'Correlation_left', 'Energy_left', 'Homogeneity_left', 'lable' ]\n",
        "\n",
        "    with open('data/features_plastic.csv', 'w', encoding='UTF8', newline='') as f:\n",
        "\n",
        "        writer = csv.writer(f)\n",
        "\n",
        "        writer.writerow(header)\n",
        "\n",
        "        counter = 0\n",
        "\n",
        "        \n",
        "        for arr in images_as_array:\n",
        "\n",
        "            data = Extract_feature_img (arr)\n",
        "\n",
        "            data.insert(0,counter)\n",
        "        \n",
        "            data.append(label)\n",
        "\n",
        "            print (\"(\", counter+1,\"/100)\")\n",
        "\n",
        "            counter = counter + 1\n",
        "\n",
        "            writer.writerow(data)\n"
      ]
    },
    {
      "cell_type": "code",
      "execution_count": 19,
      "metadata": {},
      "outputs": [],
      "source": [
        "sub_list = image_as_numpyArray_list[0:2]"
      ]
    },
    {
      "cell_type": "code",
      "execution_count": 20,
      "metadata": {},
      "outputs": [
        {
          "name": "stdout",
          "output_type": "stream",
          "text": [
            "( 1 /100)\n",
            "( 2 /100)\n",
            "( 3 /100)\n",
            "( 4 /100)\n",
            "( 5 /100)\n",
            "( 6 /100)\n",
            "( 7 /100)\n",
            "( 8 /100)\n",
            "( 9 /100)\n",
            "( 10 /100)\n",
            "( 11 /100)\n",
            "( 12 /100)\n",
            "( 13 /100)\n",
            "( 14 /100)\n",
            "( 15 /100)\n",
            "( 16 /100)\n",
            "( 17 /100)\n",
            "( 18 /100)\n",
            "( 19 /100)\n",
            "( 20 /100)\n",
            "( 21 /100)\n",
            "( 22 /100)\n",
            "( 23 /100)\n",
            "( 24 /100)\n",
            "( 25 /100)\n",
            "( 26 /100)\n",
            "( 27 /100)\n",
            "( 28 /100)\n",
            "( 29 /100)\n",
            "( 30 /100)\n",
            "( 31 /100)\n",
            "( 32 /100)\n",
            "( 33 /100)\n",
            "( 34 /100)\n",
            "( 35 /100)\n",
            "( 36 /100)\n",
            "( 37 /100)\n",
            "( 38 /100)\n",
            "( 39 /100)\n",
            "( 40 /100)\n",
            "( 41 /100)\n",
            "( 42 /100)\n",
            "( 43 /100)\n",
            "( 44 /100)\n",
            "( 45 /100)\n",
            "( 46 /100)\n",
            "( 47 /100)\n",
            "( 48 /100)\n",
            "( 49 /100)\n",
            "( 50 /100)\n",
            "( 51 /100)\n",
            "( 52 /100)\n",
            "( 53 /100)\n",
            "( 54 /100)\n",
            "( 55 /100)\n",
            "( 56 /100)\n",
            "( 57 /100)\n",
            "( 58 /100)\n",
            "( 59 /100)\n",
            "( 60 /100)\n",
            "( 61 /100)\n",
            "( 62 /100)\n",
            "( 63 /100)\n",
            "( 64 /100)\n",
            "( 65 /100)\n",
            "( 66 /100)\n",
            "( 67 /100)\n",
            "( 68 /100)\n",
            "( 69 /100)\n",
            "( 70 /100)\n",
            "( 71 /100)\n",
            "( 72 /100)\n",
            "( 73 /100)\n",
            "( 74 /100)\n",
            "( 75 /100)\n",
            "( 76 /100)\n",
            "( 77 /100)\n",
            "( 78 /100)\n",
            "( 79 /100)\n",
            "( 80 /100)\n",
            "( 81 /100)\n",
            "( 82 /100)\n",
            "( 83 /100)\n",
            "( 84 /100)\n",
            "( 85 /100)\n",
            "( 86 /100)\n",
            "( 87 /100)\n",
            "( 88 /100)\n",
            "( 89 /100)\n",
            "( 90 /100)\n",
            "( 91 /100)\n",
            "( 92 /100)\n",
            "( 93 /100)\n",
            "( 94 /100)\n",
            "( 95 /100)\n",
            "( 96 /100)\n",
            "( 97 /100)\n",
            "( 98 /100)\n",
            "( 99 /100)\n",
            "( 100 /100)\n"
          ]
        }
      ],
      "source": [
        "extract_features_data (image_as_numpyArray_list, \"plastic\")"
      ]
    },
    {
      "cell_type": "code",
      "execution_count": null,
      "metadata": {},
      "outputs": [],
      "source": []
    }
  ],
  "metadata": {
    "colab": {
      "provenance": [],
      "toc_visible": true
    },
    "kernelspec": {
      "display_name": "Python 3",
      "language": "python",
      "name": "python3"
    },
    "language_info": {
      "codemirror_mode": {
        "name": "ipython",
        "version": 3
      },
      "file_extension": ".py",
      "mimetype": "text/x-python",
      "name": "python",
      "nbconvert_exporter": "python",
      "pygments_lexer": "ipython3",
      "version": "3.8.10"
    },
    "orig_nbformat": 4
  },
  "nbformat": 4,
  "nbformat_minor": 0
}
