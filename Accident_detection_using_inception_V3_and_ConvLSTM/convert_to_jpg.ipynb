{
  "cells": [
    {
      "cell_type": "code",
      "execution_count": 1,
      "metadata": {
        "id": "ATCt-8nVsKec"
      },
      "outputs": [],
      "source": [
        "from PIL import Image\n",
        "import os"
      ]
    },
    {
      "cell_type": "code",
      "execution_count": 2,
      "metadata": {},
      "outputs": [
        {
          "data": {
            "text/plain": [
              "[PhysicalDevice(name='/physical_device:GPU:0', device_type='GPU')]"
            ]
          },
          "execution_count": 2,
          "metadata": {},
          "output_type": "execute_result"
        }
      ],
      "source": [
        "import tensorflow as tf\n",
        "tf.config.list_physical_devices('GPU')"
      ]
    },
    {
      "cell_type": "code",
      "execution_count": 3,
      "metadata": {
        "id": "m-B--9cesKee",
        "outputId": "1b35fb8f-07fd-4583-c221-16fabfd0d640"
      },
      "outputs": [
        {
          "data": {
            "text/plain": [
              "['Accident', 'Non-Accident']"
            ]
          },
          "execution_count": 3,
          "metadata": {},
          "output_type": "execute_result"
        }
      ],
      "source": [
        "data_dir = \"Fine_Tuning_data\"\n",
        "os.listdir(data_dir)"
      ]
    },
    {
      "cell_type": "code",
      "execution_count": 4,
      "metadata": {
        "id": "TP_VkH6DsKef"
      },
      "outputs": [],
      "source": [
        "for className in os.listdir(data_dir) :\n",
        "\n",
        "    claas_folder_path = data_dir+\"/\"+className\n",
        "\n",
        "    for sample in os.listdir(claas_folder_path):\n",
        "\n",
        "        image = Image.open(\"Fine_Tuning_data/\"+className+\"/\"+sample)\n",
        "        image = image.convert('RGB')\n",
        "        image = image.resize((299,299))\n",
        "\n",
        "        save_path = \"Fine_Tuning_dataset/\"+className+\"/\"+os.path.splitext(sample)[0]+\".jpg\"\n",
        "        image.save(save_path)\n",
        "        \n",
        "\n",
        "\n",
        "\n",
        "\n"
      ]
    },
    {
      "cell_type": "code",
      "execution_count": null,
      "metadata": {},
      "outputs": [],
      "source": []
    }
  ],
  "metadata": {
    "colab": {
      "provenance": []
    },
    "kernelspec": {
      "display_name": "Python 3",
      "language": "python",
      "name": "python3"
    },
    "language_info": {
      "codemirror_mode": {
        "name": "ipython",
        "version": 3
      },
      "file_extension": ".py",
      "mimetype": "text/x-python",
      "name": "python",
      "nbconvert_exporter": "python",
      "pygments_lexer": "ipython3",
      "version": "3.10.9"
    },
    "orig_nbformat": 4
  },
  "nbformat": 4,
  "nbformat_minor": 0
}
